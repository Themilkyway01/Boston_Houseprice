{
 "cells": [
  {
   "metadata": {},
   "cell_type": "markdown",
   "source": [
    "# 波士顿房价预测\n",
    "经典的回归模型项目"
   ],
   "id": "cb27babf46450a74"
  },
  {
   "metadata": {},
   "cell_type": "markdown",
   "source": [
    "## 1. 数据加载与观察\n",
    "数据：housing.csv"
   ],
   "id": "43604a6f39a9f876"
  },
  {
   "metadata": {},
   "cell_type": "markdown",
   "source": "### 1.1 导入库",
   "id": "bcc546ce54394bd2"
  },
  {
   "metadata": {
    "ExecuteTime": {
     "end_time": "2025-03-16T09:19:06.946354Z",
     "start_time": "2025-03-16T09:19:06.943850Z"
    }
   },
   "cell_type": "code",
   "source": [
    "import numpy as np\n",
    "import pandas as pd\n",
    "import matplotlib.pyplot as plt"
   ],
   "id": "2adb20b6551c20e0",
   "outputs": [],
   "execution_count": 1
  },
  {
   "metadata": {},
   "cell_type": "markdown",
   "source": "### 1.2 加载数据",
   "id": "359a9a3318b26471"
  },
  {
   "metadata": {
    "ExecuteTime": {
     "end_time": "2025-03-16T09:19:16.790541Z",
     "start_time": "2025-03-16T09:19:16.757978Z"
    }
   },
   "cell_type": "code",
   "source": [
    "names=[\"CRIM\", \"ZN\", \"INDUS\", \"CHAS\", \"NOX\", \"RM\", \"AGE\", \"DIS\", \"RAD\", \"TAX\", \"PTRATIO\", \"B\", \"LSTAT\", \"MEDV\"]\n",
    "data = pd.read_csv(\"housing.csv\", names=names, sep='\\s+')\n",
    "data.head(10)"
   ],
   "id": "a68fd25f7095da29",
   "outputs": [
    {
     "data": {
      "text/plain": [
       "      CRIM    ZN  INDUS  CHAS    NOX     RM    AGE     DIS  RAD    TAX  \\\n",
       "0  0.00632  18.0   2.31     0  0.538  6.575   65.2  4.0900    1  296.0   \n",
       "1  0.02731   0.0   7.07     0  0.469  6.421   78.9  4.9671    2  242.0   \n",
       "2  0.02729   0.0   7.07     0  0.469  7.185   61.1  4.9671    2  242.0   \n",
       "3  0.03237   0.0   2.18     0  0.458  6.998   45.8  6.0622    3  222.0   \n",
       "4  0.06905   0.0   2.18     0  0.458  7.147   54.2  6.0622    3  222.0   \n",
       "5  0.02985   0.0   2.18     0  0.458  6.430   58.7  6.0622    3  222.0   \n",
       "6  0.08829  12.5   7.87     0  0.524  6.012   66.6  5.5605    5  311.0   \n",
       "7  0.14455  12.5   7.87     0  0.524  6.172   96.1  5.9505    5  311.0   \n",
       "8  0.21124  12.5   7.87     0  0.524  5.631  100.0  6.0821    5  311.0   \n",
       "9  0.17004  12.5   7.87     0  0.524  6.004   85.9  6.5921    5  311.0   \n",
       "\n",
       "   PTRATIO       B  LSTAT  MEDV  \n",
       "0     15.3  396.90   4.98  24.0  \n",
       "1     17.8  396.90   9.14  21.6  \n",
       "2     17.8  392.83   4.03  34.7  \n",
       "3     18.7  394.63   2.94  33.4  \n",
       "4     18.7  396.90   5.33  36.2  \n",
       "5     18.7  394.12   5.21  28.7  \n",
       "6     15.2  395.60  12.43  22.9  \n",
       "7     15.2  396.90  19.15  27.1  \n",
       "8     15.2  386.63  29.93  16.5  \n",
       "9     15.2  386.71  17.10  18.9  "
      ],
      "text/html": [
       "<div>\n",
       "<style scoped>\n",
       "    .dataframe tbody tr th:only-of-type {\n",
       "        vertical-align: middle;\n",
       "    }\n",
       "\n",
       "    .dataframe tbody tr th {\n",
       "        vertical-align: top;\n",
       "    }\n",
       "\n",
       "    .dataframe thead th {\n",
       "        text-align: right;\n",
       "    }\n",
       "</style>\n",
       "<table border=\"1\" class=\"dataframe\">\n",
       "  <thead>\n",
       "    <tr style=\"text-align: right;\">\n",
       "      <th></th>\n",
       "      <th>CRIM</th>\n",
       "      <th>ZN</th>\n",
       "      <th>INDUS</th>\n",
       "      <th>CHAS</th>\n",
       "      <th>NOX</th>\n",
       "      <th>RM</th>\n",
       "      <th>AGE</th>\n",
       "      <th>DIS</th>\n",
       "      <th>RAD</th>\n",
       "      <th>TAX</th>\n",
       "      <th>PTRATIO</th>\n",
       "      <th>B</th>\n",
       "      <th>LSTAT</th>\n",
       "      <th>MEDV</th>\n",
       "    </tr>\n",
       "  </thead>\n",
       "  <tbody>\n",
       "    <tr>\n",
       "      <th>0</th>\n",
       "      <td>0.00632</td>\n",
       "      <td>18.0</td>\n",
       "      <td>2.31</td>\n",
       "      <td>0</td>\n",
       "      <td>0.538</td>\n",
       "      <td>6.575</td>\n",
       "      <td>65.2</td>\n",
       "      <td>4.0900</td>\n",
       "      <td>1</td>\n",
       "      <td>296.0</td>\n",
       "      <td>15.3</td>\n",
       "      <td>396.90</td>\n",
       "      <td>4.98</td>\n",
       "      <td>24.0</td>\n",
       "    </tr>\n",
       "    <tr>\n",
       "      <th>1</th>\n",
       "      <td>0.02731</td>\n",
       "      <td>0.0</td>\n",
       "      <td>7.07</td>\n",
       "      <td>0</td>\n",
       "      <td>0.469</td>\n",
       "      <td>6.421</td>\n",
       "      <td>78.9</td>\n",
       "      <td>4.9671</td>\n",
       "      <td>2</td>\n",
       "      <td>242.0</td>\n",
       "      <td>17.8</td>\n",
       "      <td>396.90</td>\n",
       "      <td>9.14</td>\n",
       "      <td>21.6</td>\n",
       "    </tr>\n",
       "    <tr>\n",
       "      <th>2</th>\n",
       "      <td>0.02729</td>\n",
       "      <td>0.0</td>\n",
       "      <td>7.07</td>\n",
       "      <td>0</td>\n",
       "      <td>0.469</td>\n",
       "      <td>7.185</td>\n",
       "      <td>61.1</td>\n",
       "      <td>4.9671</td>\n",
       "      <td>2</td>\n",
       "      <td>242.0</td>\n",
       "      <td>17.8</td>\n",
       "      <td>392.83</td>\n",
       "      <td>4.03</td>\n",
       "      <td>34.7</td>\n",
       "    </tr>\n",
       "    <tr>\n",
       "      <th>3</th>\n",
       "      <td>0.03237</td>\n",
       "      <td>0.0</td>\n",
       "      <td>2.18</td>\n",
       "      <td>0</td>\n",
       "      <td>0.458</td>\n",
       "      <td>6.998</td>\n",
       "      <td>45.8</td>\n",
       "      <td>6.0622</td>\n",
       "      <td>3</td>\n",
       "      <td>222.0</td>\n",
       "      <td>18.7</td>\n",
       "      <td>394.63</td>\n",
       "      <td>2.94</td>\n",
       "      <td>33.4</td>\n",
       "    </tr>\n",
       "    <tr>\n",
       "      <th>4</th>\n",
       "      <td>0.06905</td>\n",
       "      <td>0.0</td>\n",
       "      <td>2.18</td>\n",
       "      <td>0</td>\n",
       "      <td>0.458</td>\n",
       "      <td>7.147</td>\n",
       "      <td>54.2</td>\n",
       "      <td>6.0622</td>\n",
       "      <td>3</td>\n",
       "      <td>222.0</td>\n",
       "      <td>18.7</td>\n",
       "      <td>396.90</td>\n",
       "      <td>5.33</td>\n",
       "      <td>36.2</td>\n",
       "    </tr>\n",
       "    <tr>\n",
       "      <th>5</th>\n",
       "      <td>0.02985</td>\n",
       "      <td>0.0</td>\n",
       "      <td>2.18</td>\n",
       "      <td>0</td>\n",
       "      <td>0.458</td>\n",
       "      <td>6.430</td>\n",
       "      <td>58.7</td>\n",
       "      <td>6.0622</td>\n",
       "      <td>3</td>\n",
       "      <td>222.0</td>\n",
       "      <td>18.7</td>\n",
       "      <td>394.12</td>\n",
       "      <td>5.21</td>\n",
       "      <td>28.7</td>\n",
       "    </tr>\n",
       "    <tr>\n",
       "      <th>6</th>\n",
       "      <td>0.08829</td>\n",
       "      <td>12.5</td>\n",
       "      <td>7.87</td>\n",
       "      <td>0</td>\n",
       "      <td>0.524</td>\n",
       "      <td>6.012</td>\n",
       "      <td>66.6</td>\n",
       "      <td>5.5605</td>\n",
       "      <td>5</td>\n",
       "      <td>311.0</td>\n",
       "      <td>15.2</td>\n",
       "      <td>395.60</td>\n",
       "      <td>12.43</td>\n",
       "      <td>22.9</td>\n",
       "    </tr>\n",
       "    <tr>\n",
       "      <th>7</th>\n",
       "      <td>0.14455</td>\n",
       "      <td>12.5</td>\n",
       "      <td>7.87</td>\n",
       "      <td>0</td>\n",
       "      <td>0.524</td>\n",
       "      <td>6.172</td>\n",
       "      <td>96.1</td>\n",
       "      <td>5.9505</td>\n",
       "      <td>5</td>\n",
       "      <td>311.0</td>\n",
       "      <td>15.2</td>\n",
       "      <td>396.90</td>\n",
       "      <td>19.15</td>\n",
       "      <td>27.1</td>\n",
       "    </tr>\n",
       "    <tr>\n",
       "      <th>8</th>\n",
       "      <td>0.21124</td>\n",
       "      <td>12.5</td>\n",
       "      <td>7.87</td>\n",
       "      <td>0</td>\n",
       "      <td>0.524</td>\n",
       "      <td>5.631</td>\n",
       "      <td>100.0</td>\n",
       "      <td>6.0821</td>\n",
       "      <td>5</td>\n",
       "      <td>311.0</td>\n",
       "      <td>15.2</td>\n",
       "      <td>386.63</td>\n",
       "      <td>29.93</td>\n",
       "      <td>16.5</td>\n",
       "    </tr>\n",
       "    <tr>\n",
       "      <th>9</th>\n",
       "      <td>0.17004</td>\n",
       "      <td>12.5</td>\n",
       "      <td>7.87</td>\n",
       "      <td>0</td>\n",
       "      <td>0.524</td>\n",
       "      <td>6.004</td>\n",
       "      <td>85.9</td>\n",
       "      <td>6.5921</td>\n",
       "      <td>5</td>\n",
       "      <td>311.0</td>\n",
       "      <td>15.2</td>\n",
       "      <td>386.71</td>\n",
       "      <td>17.10</td>\n",
       "      <td>18.9</td>\n",
       "    </tr>\n",
       "  </tbody>\n",
       "</table>\n",
       "</div>"
      ]
     },
     "execution_count": 2,
     "metadata": {},
     "output_type": "execute_result"
    }
   ],
   "execution_count": 2
  },
  {
   "metadata": {},
   "cell_type": "markdown",
   "source": [
    "### 1.3 理解数据特征\n",
    "![](img.png)"
   ],
   "id": "b8cb47462ecb81c9"
  },
  {
   "metadata": {},
   "cell_type": "markdown",
   "source": [
    "## 2. 数据可视化\n",
    "（初步探索）"
   ],
   "id": "76ba321e70f00787"
  },
  {
   "metadata": {},
   "cell_type": "markdown",
   "source": "### 2.1 查看所有特征与房价的相关性",
   "id": "7279fdacbe5dbb82"
  },
  {
   "metadata": {
    "ExecuteTime": {
     "end_time": "2025-03-16T09:19:19.292504Z",
     "start_time": "2025-03-16T09:19:19.286556Z"
    }
   },
   "cell_type": "code",
   "source": [
    "correlation = data.corr()['MEDV'].sort_values(ascending=False)\n",
    "correlation"
   ],
   "id": "9b1d379d19f5c58f",
   "outputs": [
    {
     "data": {
      "text/plain": [
       "MEDV       1.000000\n",
       "RM         0.695360\n",
       "ZN         0.360445\n",
       "B          0.333461\n",
       "DIS        0.249929\n",
       "CHAS       0.175260\n",
       "AGE       -0.376955\n",
       "RAD       -0.381626\n",
       "CRIM      -0.388305\n",
       "NOX       -0.427321\n",
       "TAX       -0.468536\n",
       "INDUS     -0.483725\n",
       "PTRATIO   -0.507787\n",
       "LSTAT     -0.737663\n",
       "Name: MEDV, dtype: float64"
      ]
     },
     "execution_count": 3,
     "metadata": {},
     "output_type": "execute_result"
    }
   ],
   "execution_count": 3
  },
  {
   "metadata": {},
   "cell_type": "markdown",
   "source": "### 2.2 绘制房间数与房价的关系",
   "id": "afae38cd64a22637"
  },
  {
   "metadata": {
    "ExecuteTime": {
     "end_time": "2025-03-16T09:19:20.767214Z",
     "start_time": "2025-03-16T09:19:20.645472Z"
    }
   },
   "cell_type": "code",
   "source": [
    "plt.plot(data['RM'], data['MEDV'], 'b.')\n",
    "plt.xlabel('RM')\n",
    "plt.ylabel('MEDV')\n",
    "plt.title('RM vs. MEDV')"
   ],
   "id": "d78ef75e0099e2a2",
   "outputs": [
    {
     "data": {
      "text/plain": [
       "Text(0.5, 1.0, 'RM vs. MEDV')"
      ]
     },
     "execution_count": 4,
     "metadata": {},
     "output_type": "execute_result"
    },
    {
     "data": {
      "text/plain": [
       "<Figure size 640x480 with 1 Axes>"
      ],
      "image/png": "[encoded data removed]"
     },
     "metadata": {},
     "output_type": "display_data"
    }
   ],
   "execution_count": 4
  },
  {
   "metadata": {},
   "cell_type": "markdown",
   "source": "可以观察出 RM 与 MEDV 大致呈现正相关性",
   "id": "67c315692b84193c"
  },
  {
   "metadata": {},
   "cell_type": "markdown",
   "source": "## 3. 数据预处理",
   "id": "14a59db2f9e16cae"
  },
  {
   "metadata": {
    "ExecuteTime": {
     "end_time": "2025-03-16T09:19:22.456979Z",
     "start_time": "2025-03-16T09:19:22.451955Z"
    }
   },
   "cell_type": "code",
   "source": [
    "np.random.seed(15)\n",
    "# 洗牌\n",
    "data_shuffle = np.random.permutation(data)\n",
    "data_shuffle"
   ],
   "id": "df16c77116d8255b",
   "outputs": [
    {
     "data": {
      "text/plain": [
       "array([[3.53700e-02, 3.40000e+01, 6.09000e+00, ..., 3.95750e+02,\n",
       "        9.50000e+00, 2.20000e+01],\n",
       "       [5.20140e-01, 2.00000e+01, 3.97000e+00, ..., 3.86860e+02,\n",
       "        5.91000e+00, 4.88000e+01],\n",
       "       [1.39140e-01, 0.00000e+00, 4.05000e+00, ..., 3.96900e+02,\n",
       "        1.46900e+01, 2.31000e+01],\n",
       "       ...,\n",
       "       [5.87205e+00, 0.00000e+00, 1.81000e+01, ..., 3.96900e+02,\n",
       "        1.93700e+01, 1.25000e+01],\n",
       "       [1.91330e-01, 2.20000e+01, 5.86000e+00, ..., 3.89130e+02,\n",
       "        1.84600e+01, 1.85000e+01],\n",
       "       [4.66883e+00, 0.00000e+00, 1.81000e+01, ..., 1.04800e+01,\n",
       "        1.90100e+01, 1.27000e+01]])"
      ]
     },
     "execution_count": 5,
     "metadata": {},
     "output_type": "execute_result"
    }
   ],
   "execution_count": 5
  },
  {
   "metadata": {},
   "cell_type": "markdown",
   "source": [
    "### 3.1 选择高相关性特征\n",
    "选择 abs(correlation) >= 0.5 的特征值"
   ],
   "id": "7c51ad1c0bacca8c"
  },
  {
   "metadata": {
    "ExecuteTime": {
     "end_time": "2025-03-16T09:19:24.152392Z",
     "start_time": "2025-03-16T09:19:24.146257Z"
    }
   },
   "cell_type": "code",
   "source": [
    "high_corr = correlation[correlation.abs() >= 0.5].index\n",
    "high_corr"
   ],
   "id": "e7abfaaa3af1fb8d",
   "outputs": [
    {
     "data": {
      "text/plain": [
       "Index(['MEDV', 'RM', 'PTRATIO', 'LSTAT'], dtype='object')"
      ]
     },
     "execution_count": 6,
     "metadata": {},
     "output_type": "execute_result"
    }
   ],
   "execution_count": 6
  },
  {
   "metadata": {
    "ExecuteTime": {
     "end_time": "2025-03-16T09:19:25.064835Z",
     "start_time": "2025-03-16T09:19:25.059378Z"
    }
   },
   "cell_type": "code",
   "source": [
    "m = len(data_shuffle)\n",
    "index = [i for i in range(len(names)) if names[i] in high_corr][:-1]\n",
    "high_corr_data = data_shuffle[:, index]\n",
    "high_corr_data[:10]"
   ],
   "id": "5af6a995e11ce70e",
   "outputs": [
    {
     "data": {
      "text/plain": [
       "array([[ 6.59 , 16.1  ,  9.5  ],\n",
       "       [ 8.398, 13.   ,  5.91 ],\n",
       "       [ 5.572, 16.6  , 14.69 ],\n",
       "       [ 6.03 , 21.   ,  7.88 ],\n",
       "       [ 6.715, 17.8  , 10.16 ],\n",
       "       [ 4.906, 20.2  , 34.77 ],\n",
       "       [ 5.404, 18.6  , 23.98 ],\n",
       "       [ 5.155, 20.2  , 20.08 ],\n",
       "       [ 6.606, 16.6  ,  7.37 ],\n",
       "       [ 5.593, 19.1  , 12.5  ]])"
      ]
     },
     "execution_count": 7,
     "metadata": {},
     "output_type": "execute_result"
    }
   ],
   "execution_count": 7
  },
  {
   "metadata": {
    "ExecuteTime": {
     "end_time": "2025-03-16T09:19:25.535535Z",
     "start_time": "2025-03-16T09:19:25.531119Z"
    }
   },
   "cell_type": "code",
   "source": [
    "target = data_shuffle[:, -1].reshape(m, 1)\n",
    "target[:10]"
   ],
   "id": "92036a01edfda510",
   "outputs": [
    {
     "data": {
      "text/plain": [
       "array([[22. ],\n",
       "       [48.8],\n",
       "       [23.1],\n",
       "       [11.9],\n",
       "       [22.8],\n",
       "       [13.8],\n",
       "       [19.3],\n",
       "       [16.3],\n",
       "       [23.3],\n",
       "       [17.6]])"
      ]
     },
     "execution_count": 8,
     "metadata": {},
     "output_type": "execute_result"
    }
   ],
   "execution_count": 8
  },
  {
   "metadata": {},
   "cell_type": "markdown",
   "source": "### 3.2 标准化数据（提升模型收敛速度）",
   "id": "7c5f0fe82ce57c6a"
  },
  {
   "metadata": {
    "ExecuteTime": {
     "end_time": "2025-03-16T09:19:26.917198Z",
     "start_time": "2025-03-16T09:19:26.793084Z"
    }
   },
   "cell_type": "code",
   "source": [
    "from sklearn.preprocessing import StandardScaler\n",
    "scaler = StandardScaler()\n",
    "high_corr_data_scaler = scaler.fit_transform(high_corr_data)\n",
    "high_corr_data_scaler[:10]"
   ],
   "id": "d6eda513bf29b84c",
   "outputs": [
    {
     "data": {
      "text/plain": [
       "array([[ 0.43504177, -1.08911039, -0.4419768 ],\n",
       "       [ 3.01082466, -2.52243411, -0.94520069],\n",
       "       [-1.01526076, -0.85792914,  0.28552513],\n",
       "       [-0.36276709,  1.17646583, -0.66905833],\n",
       "       [ 0.6131241 , -0.30309415, -0.34946211],\n",
       "       [-1.96408344,  0.80657583,  3.1002147 ],\n",
       "       [-1.25460342,  0.06679585,  1.58773958],\n",
       "       [-1.60934343,  0.80657583,  1.04106182],\n",
       "       [ 0.45783631, -0.85792914, -0.74054696],\n",
       "       [-0.98534293,  0.29797709, -0.02145545]])"
      ]
     },
     "execution_count": 9,
     "metadata": {},
     "output_type": "execute_result"
    }
   ],
   "execution_count": 9
  },
  {
   "metadata": {},
   "cell_type": "markdown",
   "source": "## 4. 划分训练集与测试集",
   "id": "76188cf786add323"
  },
  {
   "metadata": {
    "ExecuteTime": {
     "end_time": "2025-03-16T09:19:28.112783Z",
     "start_time": "2025-03-16T09:19:28.051309Z"
    }
   },
   "cell_type": "code",
   "source": [
    "from sklearn.model_selection import train_test_split\n",
    "X_train, X_test, y_train, y_test = train_test_split(high_corr_data_scaler, target, test_size=0.2, random_state=15)\n",
    "m1 = len(X_train)\n",
    "m2 = len(X_test)\n",
    "m1"
   ],
   "id": "f0ade156356522ab",
   "outputs": [
    {
     "data": {
      "text/plain": [
       "404"
      ]
     },
     "execution_count": 10,
     "metadata": {},
     "output_type": "execute_result"
    }
   ],
   "execution_count": 10
  },
  {
   "metadata": {},
   "cell_type": "markdown",
   "source": "## 5. 训练线性回归模型",
   "id": "f29e756e1c9c0bc8"
  },
  {
   "metadata": {},
   "cell_type": "markdown",
   "source": "#### 直接使用函数",
   "id": "7b597468fc41e90c"
  },
  {
   "metadata": {
    "ExecuteTime": {
     "end_time": "2025-03-16T09:19:29.590499Z",
     "start_time": "2025-03-16T09:19:29.531451Z"
    }
   },
   "cell_type": "code",
   "source": [
    "from sklearn.linear_model import LinearRegression\n",
    "model = LinearRegression()\n",
    "model.fit(X_train, y_train)"
   ],
   "id": "9ff4a9f8d9b92795",
   "outputs": [
    {
     "data": {
      "text/plain": [
       "LinearRegression()"
      ],
      "text/html": [
       "<style>#sk-container-id-1 {\n",
       "  /* Definition of color scheme common for light and dark mode */\n",
       "  --sklearn-color-text: #000;\n",
       "  --sklearn-color-text-muted: #666;\n",
       "  --sklearn-color-line: gray;\n",
       "  /* Definition of color scheme for unfitted estimators */\n",
       "  --sklearn-color-unfitted-level-0: #fff5e6;\n",
       "  --sklearn-color-unfitted-level-1: #f6e4d2;\n",
       "  --sklearn-color-unfitted-level-2: #ffe0b3;\n",
       "  --sklearn-color-unfitted-level-3: chocolate;\n",
       "  /* Definition of color scheme for fitted estimators */\n",
       "  --sklearn-color-fitted-level-0: #f0f8ff;\n",
       "  --sklearn-color-fitted-level-1: #d4ebff;\n",
       "  --sklearn-color-fitted-level-2: #b3dbfd;\n",
       "  --sklearn-color-fitted-level-3: cornflowerblue;\n",
       "\n",
       "  /* Specific color for light theme */\n",
       "  --sklearn-color-text-on-default-background: var(--sg-text-color, var(--theme-code-foreground, var(--jp-content-font-color1, black)));\n",
       "  --sklearn-color-background: var(--sg-background-color, var(--theme-background, var(--jp-layout-color0, white)));\n",
       "  --sklearn-color-border-box: var(--sg-text-color, var(--theme-code-foreground, var(--jp-content-font-color1, black)));\n",
       "  --sklearn-color-icon: #696969;\n",
       "\n",
       "  @media (prefers-color-scheme: dark) {\n",
       "    /* Redefinition of color scheme for dark theme */\n",
       "    --sklearn-color-text-on-default-background: var(--sg-text-color, var(--theme-code-foreground, var(--jp-content-font-color1, white)));\n",
       "    --sklearn-color-background: var(--sg-background-color, var(--theme-background, var(--jp-layout-color0, #111)));\n",
       "    --sklearn-color-border-box: var(--sg-text-color, var(--theme-code-foreground, var(--jp-content-font-color1, white)));\n",
       "    --sklearn-color-icon: #878787;\n",
       "  }\n",
       "}\n",
       "\n",
       "#sk-container-id-1 {\n",
       "  color: var(--sklearn-color-text);\n",
       "}\n",
       "\n",
       "#sk-container-id-1 pre {\n",
       "  padding: 0;\n",
       "}\n",
       "\n",
       "#sk-container-id-1 input.sk-hidden--visually {\n",
       "  border: 0;\n",
       "  clip: rect(1px 1px 1px 1px);\n",
       "  clip: rect(1px, 1px, 1px, 1px);\n",
       "  height: 1px;\n",
       "  margin: -1px;\n",
       "  overflow: hidden;\n",
       "  padding: 0;\n",
       "  position: absolute;\n",
       "  width: 1px;\n",
       "}\n",
       "\n",
       "#sk-container-id-1 div.sk-dashed-wrapped {\n",
       "  border: 1px dashed var(--sklearn-color-line);\n",
       "  margin: 0 0.4em 0.5em 0.4em;\n",
       "  box-sizing: border-box;\n",
       "  padding-bottom: 0.4em;\n",
       "  background-color: var(--sklearn-color-background);\n",
       "}\n",
       "\n",
       "#sk-container-id-1 div.sk-container {\n",
       "  /* jupyter's `normalize.less` sets `[hidden] { display: none; }`\n",
       "     but bootstrap.min.css set `[hidden] { display: none !important; }`\n",
       "     so we also need the `!important` here to be able to override the\n",
       "     default hidden behavior on the sphinx rendered scikit-learn.org.\n",
       "     See: https://github.com/scikit-learn/scikit-learn/issues/21755 */\n",
       "  display: inline-block !important;\n",
       "  position: relative;\n",
       "}\n",
       "\n",
       "#sk-container-id-1 div.sk-text-repr-fallback {\n",
       "  display: none;\n",
       "}\n",
       "\n",
       "div.sk-parallel-item,\n",
       "div.sk-serial,\n",
       "div.sk-item {\n",
       "  /* draw centered vertical line to link estimators */\n",
       "  background-image: linear-gradient(var(--sklearn-color-text-on-default-background), var(--sklearn-color-text-on-default-background));\n",
       "  background-size: 2px 100%;\n",
       "  background-repeat: no-repeat;\n",
       "  background-position: center center;\n",
       "}\n",
       "\n",
       "/* Parallel-specific style estimator block */\n",
       "\n",
       "#sk-container-id-1 div.sk-parallel-item::after {\n",
       "  content: \"\";\n",
       "  width: 100%;\n",
       "  border-bottom: 2px solid var(--sklearn-color-text-on-default-background);\n",
       "  flex-grow: 1;\n",
       "}\n",
       "\n",
       "#sk-container-id-1 div.sk-parallel {\n",
       "  display: flex;\n",
       "  align-items: stretch;\n",
       "  justify-content: center;\n",
       "  background-color: var(--sklearn-color-background);\n",
       "  position: relative;\n",
       "}\n",
       "\n",
       "#sk-container-id-1 div.sk-parallel-item {\n",
       "  display: flex;\n",
       "  flex-direction: column;\n",
       "}\n",
       "\n",
       "#sk-container-id-1 div.sk-parallel-item:first-child::after {\n",
       "  align-self: flex-end;\n",
       "  width: 50%;\n",
       "}\n",
       "\n",
       "#sk-container-id-1 div.sk-parallel-item:last-child::after {\n",
       "  align-self: flex-start;\n",
       "  width: 50%;\n",
       "}\n",
       "\n",
       "#sk-container-id-1 div.sk-parallel-item:only-child::after {\n",
       "  width: 0;\n",
       "}\n",
       "\n",
       "/* Serial-specific style estimator block */\n",
       "\n",
       "#sk-container-id-1 div.sk-serial {\n",
       "  display: flex;\n",
       "  flex-direction: column;\n",
       "  align-items: center;\n",
       "  background-color: var(--sklearn-color-background);\n",
       "  padding-right: 1em;\n",
       "  padding-left: 1em;\n",
       "}\n",
       "\n",
       "\n",
       "/* Toggleable style: style used for estimator/Pipeline/ColumnTransformer box that is\n",
       "clickable and can be expanded/collapsed.\n",
       "- Pipeline and ColumnTransformer use this feature and define the default style\n",
       "- Estimators will overwrite some part of the style using the `sk-estimator` class\n",
       "*/\n",
       "\n",
       "/* Pipeline and ColumnTransformer style (default) */\n",
       "\n",
       "#sk-container-id-1 div.sk-toggleable {\n",
       "  /* Default theme specific background. It is overwritten whether we have a\n",
       "  specific estimator or a Pipeline/ColumnTransformer */\n",
       "  background-color: var(--sklearn-color-background);\n",
       "}\n",
       "\n",
       "/* Toggleable label */\n",
       "#sk-container-id-1 label.sk-toggleable__label {\n",
       "  cursor: pointer;\n",
       "  display: flex;\n",
       "  width: 100%;\n",
       "  margin-bottom: 0;\n",
       "  padding: 0.5em;\n",
       "  box-sizing: border-box;\n",
       "  text-align: center;\n",
       "  align-items: start;\n",
       "  justify-content: space-between;\n",
       "  gap: 0.5em;\n",
       "}\n",
       "\n",
       "#sk-container-id-1 label.sk-toggleable__label .caption {\n",
       "  font-size: 0.6rem;\n",
       "  font-weight: lighter;\n",
       "  color: var(--sklearn-color-text-muted);\n",
       "}\n",
       "\n",
       "#sk-container-id-1 label.sk-toggleable__label-arrow:before {\n",
       "  /* Arrow on the left of the label */\n",
       "  content: \"▸\";\n",
       "  float: left;\n",
       "  margin-right: 0.25em;\n",
       "  color: var(--sklearn-color-icon);\n",
       "}\n",
       "\n",
       "#sk-container-id-1 label.sk-toggleable__label-arrow:hover:before {\n",
       "  color: var(--sklearn-color-text);\n",
       "}\n",
       "\n",
       "/* Toggleable content - dropdown */\n",
       "\n",
       "#sk-container-id-1 div.sk-toggleable__content {\n",
       "  max-height: 0;\n",
       "  max-width: 0;\n",
       "  overflow: hidden;\n",
       "  text-align: left;\n",
       "  /* unfitted */\n",
       "  background-color: var(--sklearn-color-unfitted-level-0);\n",
       "}\n",
       "\n",
       "#sk-container-id-1 div.sk-toggleable__content.fitted {\n",
       "  /* fitted */\n",
       "  background-color: var(--sklearn-color-fitted-level-0);\n",
       "}\n",
       "\n",
       "#sk-container-id-1 div.sk-toggleable__content pre {\n",
       "  margin: 0.2em;\n",
       "  border-radius: 0.25em;\n",
       "  color: var(--sklearn-color-text);\n",
       "  /* unfitted */\n",
       "  background-color: var(--sklearn-color-unfitted-level-0);\n",
       "}\n",
       "\n",
       "#sk-container-id-1 div.sk-toggleable__content.fitted pre {\n",
       "  /* unfitted */\n",
       "  background-color: var(--sklearn-color-fitted-level-0);\n",
       "}\n",
       "\n",
       "#sk-container-id-1 input.sk-toggleable__control:checked~div.sk-toggleable__content {\n",
       "  /* Expand drop-down */\n",
       "  max-height: 200px;\n",
       "  max-width: 100%;\n",
       "  overflow: auto;\n",
       "}\n",
       "\n",
       "#sk-container-id-1 input.sk-toggleable__control:checked~label.sk-toggleable__label-arrow:before {\n",
       "  content: \"▾\";\n",
       "}\n",
       "\n",
       "/* Pipeline/ColumnTransformer-specific style */\n",
       "\n",
       "#sk-container-id-1 div.sk-label input.sk-toggleable__control:checked~label.sk-toggleable__label {\n",
       "  color: var(--sklearn-color-text);\n",
       "  background-color: var(--sklearn-color-unfitted-level-2);\n",
       "}\n",
       "\n",
       "#sk-container-id-1 div.sk-label.fitted input.sk-toggleable__control:checked~label.sk-toggleable__label {\n",
       "  background-color: var(--sklearn-color-fitted-level-2);\n",
       "}\n",
       "\n",
       "/* Estimator-specific style */\n",
       "\n",
       "/* Colorize estimator box */\n",
       "#sk-container-id-1 div.sk-estimator input.sk-toggleable__control:checked~label.sk-toggleable__label {\n",
       "  /* unfitted */\n",
       "  background-color: var(--sklearn-color-unfitted-level-2);\n",
       "}\n",
       "\n",
       "#sk-container-id-1 div.sk-estimator.fitted input.sk-toggleable__control:checked~label.sk-toggleable__label {\n",
       "  /* fitted */\n",
       "  background-color: var(--sklearn-color-fitted-level-2);\n",
       "}\n",
       "\n",
       "#sk-container-id-1 div.sk-label label.sk-toggleable__label,\n",
       "#sk-container-id-1 div.sk-label label {\n",
       "  /* The background is the default theme color */\n",
       "  color: var(--sklearn-color-text-on-default-background);\n",
       "}\n",
       "\n",
       "/* On hover, darken the color of the background */\n",
       "#sk-container-id-1 div.sk-label:hover label.sk-toggleable__label {\n",
       "  color: var(--sklearn-color-text);\n",
       "  background-color: var(--sklearn-color-unfitted-level-2);\n",
       "}\n",
       "\n",
       "/* Label box, darken color on hover, fitted */\n",
       "#sk-container-id-1 div.sk-label.fitted:hover label.sk-toggleable__label.fitted {\n",
       "  color: var(--sklearn-color-text);\n",
       "  background-color: var(--sklearn-color-fitted-level-2);\n",
       "}\n",
       "\n",
       "/* Estimator label */\n",
       "\n",
       "#sk-container-id-1 div.sk-label label {\n",
       "  font-family: monospace;\n",
       "  font-weight: bold;\n",
       "  display: inline-block;\n",
       "  line-height: 1.2em;\n",
       "}\n",
       "\n",
       "#sk-container-id-1 div.sk-label-container {\n",
       "  text-align: center;\n",
       "}\n",
       "\n",
       "/* Estimator-specific */\n",
       "#sk-container-id-1 div.sk-estimator {\n",
       "  font-family: monospace;\n",
       "  border: 1px dotted var(--sklearn-color-border-box);\n",
       "  border-radius: 0.25em;\n",
       "  box-sizing: border-box;\n",
       "  margin-bottom: 0.5em;\n",
       "  /* unfitted */\n",
       "  background-color: var(--sklearn-color-unfitted-level-0);\n",
       "}\n",
       "\n",
       "#sk-container-id-1 div.sk-estimator.fitted {\n",
       "  /* fitted */\n",
       "  background-color: var(--sklearn-color-fitted-level-0);\n",
       "}\n",
       "\n",
       "/* on hover */\n",
       "#sk-container-id-1 div.sk-estimator:hover {\n",
       "  /* unfitted */\n",
       "  background-color: var(--sklearn-color-unfitted-level-2);\n",
       "}\n",
       "\n",
       "#sk-container-id-1 div.sk-estimator.fitted:hover {\n",
       "  /* fitted */\n",
       "  background-color: var(--sklearn-color-fitted-level-2);\n",
       "}\n",
       "\n",
       "/* Specification for estimator info (e.g. \"i\" and \"?\") */\n",
       "\n",
       "/* Common style for \"i\" and \"?\" */\n",
       "\n",
       ".sk-estimator-doc-link,\n",
       "a:link.sk-estimator-doc-link,\n",
       "a:visited.sk-estimator-doc-link {\n",
       "  float: right;\n",
       "  font-size: smaller;\n",
       "  line-height: 1em;\n",
       "  font-family: monospace;\n",
       "  background-color: var(--sklearn-color-background);\n",
       "  border-radius: 1em;\n",
       "  height: 1em;\n",
       "  width: 1em;\n",
       "  text-decoration: none !important;\n",
       "  margin-left: 0.5em;\n",
       "  text-align: center;\n",
       "  /* unfitted */\n",
       "  border: var(--sklearn-color-unfitted-level-1) 1pt solid;\n",
       "  color: var(--sklearn-color-unfitted-level-1);\n",
       "}\n",
       "\n",
       ".sk-estimator-doc-link.fitted,\n",
       "a:link.sk-estimator-doc-link.fitted,\n",
       "a:visited.sk-estimator-doc-link.fitted {\n",
       "  /* fitted */\n",
       "  border: var(--sklearn-color-fitted-level-1) 1pt solid;\n",
       "  color: var(--sklearn-color-fitted-level-1);\n",
       "}\n",
       "\n",
       "/* On hover */\n",
       "div.sk-estimator:hover .sk-estimator-doc-link:hover,\n",
       ".sk-estimator-doc-link:hover,\n",
       "div.sk-label-container:hover .sk-estimator-doc-link:hover,\n",
       ".sk-estimator-doc-link:hover {\n",
       "  /* unfitted */\n",
       "  background-color: var(--sklearn-color-unfitted-level-3);\n",
       "  color: var(--sklearn-color-background);\n",
       "  text-decoration: none;\n",
       "}\n",
       "\n",
       "div.sk-estimator.fitted:hover .sk-estimator-doc-link.fitted:hover,\n",
       ".sk-estimator-doc-link.fitted:hover,\n",
       "div.sk-label-container:hover .sk-estimator-doc-link.fitted:hover,\n",
       ".sk-estimator-doc-link.fitted:hover {\n",
       "  /* fitted */\n",
       "  background-color: var(--sklearn-color-fitted-level-3);\n",
       "  color: var(--sklearn-color-background);\n",
       "  text-decoration: none;\n",
       "}\n",
       "\n",
       "/* Span, style for the box shown on hovering the info icon */\n",
       ".sk-estimator-doc-link span {\n",
       "  display: none;\n",
       "  z-index: 9999;\n",
       "  position: relative;\n",
       "  font-weight: normal;\n",
       "  right: .2ex;\n",
       "  padding: .5ex;\n",
       "  margin: .5ex;\n",
       "  width: min-content;\n",
       "  min-width: 20ex;\n",
       "  max-width: 50ex;\n",
       "  color: var(--sklearn-color-text);\n",
       "  box-shadow: 2pt 2pt 4pt #999;\n",
       "  /* unfitted */\n",
       "  background: var(--sklearn-color-unfitted-level-0);\n",
       "  border: .5pt solid var(--sklearn-color-unfitted-level-3);\n",
       "}\n",
       "\n",
       ".sk-estimator-doc-link.fitted span {\n",
       "  /* fitted */\n",
       "  background: var(--sklearn-color-fitted-level-0);\n",
       "  border: var(--sklearn-color-fitted-level-3);\n",
       "}\n",
       "\n",
       ".sk-estimator-doc-link:hover span {\n",
       "  display: block;\n",
       "}\n",
       "\n",
       "/* \"?\"-specific style due to the `<a>` HTML tag */\n",
       "\n",
       "#sk-container-id-1 a.estimator_doc_link {\n",
       "  float: right;\n",
       "  font-size: 1rem;\n",
       "  line-height: 1em;\n",
       "  font-family: monospace;\n",
       "  background-color: var(--sklearn-color-background);\n",
       "  border-radius: 1rem;\n",
       "  height: 1rem;\n",
       "  width: 1rem;\n",
       "  text-decoration: none;\n",
       "  /* unfitted */\n",
       "  color: var(--sklearn-color-unfitted-level-1);\n",
       "  border: var(--sklearn-color-unfitted-level-1) 1pt solid;\n",
       "}\n",
       "\n",
       "#sk-container-id-1 a.estimator_doc_link.fitted {\n",
       "  /* fitted */\n",
       "  border: var(--sklearn-color-fitted-level-1) 1pt solid;\n",
       "  color: var(--sklearn-color-fitted-level-1);\n",
       "}\n",
       "\n",
       "/* On hover */\n",
       "#sk-container-id-1 a.estimator_doc_link:hover {\n",
       "  /* unfitted */\n",
       "  background-color: var(--sklearn-color-unfitted-level-3);\n",
       "  color: var(--sklearn-color-background);\n",
       "  text-decoration: none;\n",
       "}\n",
       "\n",
       "#sk-container-id-1 a.estimator_doc_link.fitted:hover {\n",
       "  /* fitted */\n",
       "  background-color: var(--sklearn-color-fitted-level-3);\n",
       "}\n",
       "</style><div id=\"sk-container-id-1\" class=\"sk-top-container\"><div class=\"sk-text-repr-fallback\"><pre>LinearRegression()</pre><b>In a Jupyter environment, please rerun this cell to show the HTML representation or trust the notebook. <br />On GitHub, the HTML representation is unable to render, please try loading this page with nbviewer.org.</b></div><div class=\"sk-container\" hidden><div class=\"sk-item\"><div class=\"sk-estimator fitted sk-toggleable\"><input class=\"sk-toggleable__control sk-hidden--visually\" id=\"sk-estimator-id-1\" type=\"checkbox\" checked><label for=\"sk-estimator-id-1\" class=\"sk-toggleable__label fitted sk-toggleable__label-arrow\"><div><div>LinearRegression</div></div><div><a class=\"sk-estimator-doc-link fitted\" rel=\"noreferrer\" target=\"_blank\" href=\"https://scikit-learn.org/1.6/modules/generated/sklearn.linear_model.LinearRegression.html\">?<span>Documentation for LinearRegression</span></a><span class=\"sk-estimator-doc-link fitted\">i<span>Fitted</span></span></div></label><div class=\"sk-toggleable__content fitted\"><pre>LinearRegression()</pre></div> </div></div></div></div>"
      ]
     },
     "execution_count": 11,
     "metadata": {},
     "output_type": "execute_result"
    }
   ],
   "execution_count": 11
  },
  {
   "metadata": {
    "ExecuteTime": {
     "end_time": "2025-03-16T09:19:29.975343Z",
     "start_time": "2025-03-16T09:19:29.970627Z"
    }
   },
   "cell_type": "code",
   "source": "model.coef_",
   "id": "cf8766ed7d037705",
   "outputs": [
    {
     "data": {
      "text/plain": [
       "array([[ 3.02107557, -2.06516576, -4.20876286]])"
      ]
     },
     "execution_count": 12,
     "metadata": {},
     "output_type": "execute_result"
    }
   ],
   "execution_count": 12
  },
  {
   "metadata": {
    "ExecuteTime": {
     "end_time": "2025-03-16T09:19:30.407381Z",
     "start_time": "2025-03-16T09:19:30.403320Z"
    }
   },
   "cell_type": "code",
   "source": "model.intercept_",
   "id": "e7432bd44c2cb8c1",
   "outputs": [
    {
     "data": {
      "text/plain": [
       "array([22.63096568])"
      ]
     },
     "execution_count": 13,
     "metadata": {},
     "output_type": "execute_result"
    }
   ],
   "execution_count": 13
  },
  {
   "metadata": {},
   "cell_type": "markdown",
   "source": "#### 梯度下降",
   "id": "ede0926add461fe0"
  },
  {
   "metadata": {},
   "cell_type": "markdown",
   "source": "##### 数据量小，首先尝试批量梯度下降",
   "id": "d91ddf7eaa2fb394"
  },
  {
   "metadata": {
    "ExecuteTime": {
     "end_time": "2025-03-16T09:19:32.027095Z",
     "start_time": "2025-03-16T09:19:31.966745Z"
    }
   },
   "cell_type": "code",
   "source": [
    "n_iterations = 10000\n",
    "alpha = 0.01\n",
    "theta = np.zeros((4, 1))\n",
    "X_train_bias = np.c_[np.ones((m1, 1)), X_train]\n",
    "\n",
    "for _ in range(n_iterations):\n",
    "    gradient = (1/m1) * X_train_bias.T @ (X_train_bias @ theta - y_train)\n",
    "    theta -= alpha * gradient\n",
    "theta"
   ],
   "id": "512bb83a042b2e52",
   "outputs": [
    {
     "data": {
      "text/plain": [
       "array([[22.63096568],\n",
       "       [ 3.02107557],\n",
       "       [-2.06516576],\n",
       "       [-4.20876286]])"
      ]
     },
     "execution_count": 14,
     "metadata": {},
     "output_type": "execute_result"
    }
   ],
   "execution_count": 14
  },
  {
   "metadata": {},
   "cell_type": "markdown",
   "source": "*梯度下降结果与函数计算结果基本一致*",
   "id": "27261cd2f593a89c"
  },
  {
   "metadata": {},
   "cell_type": "markdown",
   "source": "## 6. 模型评估",
   "id": "8713f0569a46e397"
  },
  {
   "metadata": {},
   "cell_type": "markdown",
   "source": "### 6.1 预测测试集",
   "id": "e4498222d2b5e1a3"
  },
  {
   "metadata": {
    "ExecuteTime": {
     "end_time": "2025-03-16T09:19:33.650353Z",
     "start_time": "2025-03-16T09:19:33.647199Z"
    }
   },
   "cell_type": "code",
   "source": [
    "y_predict1 = model.predict(X_test)\n",
    "y_predict2 = np.c_[np.ones((m2, 1)), X_test] @ theta"
   ],
   "id": "35b651c2e691da40",
   "outputs": [],
   "execution_count": 15
  },
  {
   "metadata": {},
   "cell_type": "markdown",
   "source": "### 6.2 计算指标",
   "id": "8639b7a46573fba8"
  },
  {
   "metadata": {
    "ExecuteTime": {
     "end_time": "2025-03-16T09:19:34.613525Z",
     "start_time": "2025-03-16T09:19:34.609225Z"
    }
   },
   "cell_type": "code",
   "source": [
    "from sklearn.metrics import mean_squared_error\n",
    "np.sqrt(mean_squared_error(y_test, y_predict1))"
   ],
   "id": "f4e02b7de3199e7f",
   "outputs": [
    {
     "data": {
      "text/plain": [
       "np.float64(4.627424649641221)"
      ]
     },
     "execution_count": 16,
     "metadata": {},
     "output_type": "execute_result"
    }
   ],
   "execution_count": 16
  },
  {
   "metadata": {
    "ExecuteTime": {
     "end_time": "2025-03-16T09:19:34.929526Z",
     "start_time": "2025-03-16T09:19:34.924242Z"
    }
   },
   "cell_type": "code",
   "source": "np.sqrt(mean_squared_error(y_test, y_predict2))",
   "id": "5f969d72b527b7fb",
   "outputs": [
    {
     "data": {
      "text/plain": [
       "np.float64(4.627424649641194)"
      ]
     },
     "execution_count": 17,
     "metadata": {},
     "output_type": "execute_result"
    }
   ],
   "execution_count": 17
  },
  {
   "metadata": {
    "ExecuteTime": {
     "end_time": "2025-03-16T09:19:35.412979Z",
     "start_time": "2025-03-16T09:19:35.409432Z"
    }
   },
   "cell_type": "code",
   "source": "4.62 / (target.max() - target.min())",
   "id": "4682588ce090dbb4",
   "outputs": [
    {
     "data": {
      "text/plain": [
       "np.float64(0.10266666666666667)"
      ]
     },
     "execution_count": 18,
     "metadata": {},
     "output_type": "execute_result"
    }
   ],
   "execution_count": 18
  },
  {
   "metadata": {},
   "cell_type": "markdown",
   "source": "*RMSE 为 4.62 表示模型大约有 10% 的房价误差*",
   "id": "a6f3d22337198745"
  },
  {
   "metadata": {
    "ExecuteTime": {
     "end_time": "2025-03-16T09:19:36.335957Z",
     "start_time": "2025-03-16T09:19:36.330980Z"
    }
   },
   "cell_type": "code",
   "source": [
    "from sklearn.metrics import r2_score\n",
    "r2_score(y_test, y_predict1)"
   ],
   "id": "423efa938d6060b8",
   "outputs": [
    {
     "data": {
      "text/plain": [
       "0.7053298549594789"
      ]
     },
     "execution_count": 19,
     "metadata": {},
     "output_type": "execute_result"
    }
   ],
   "execution_count": 19
  },
  {
   "metadata": {
    "ExecuteTime": {
     "end_time": "2025-03-16T09:19:36.784200Z",
     "start_time": "2025-03-16T09:19:36.780378Z"
    }
   },
   "cell_type": "code",
   "source": "r2_score(y_test, y_predict2)",
   "id": "895768c2c3472d35",
   "outputs": [
    {
     "data": {
      "text/plain": [
       "0.7053298549594824"
      ]
     },
     "execution_count": 20,
     "metadata": {},
     "output_type": "execute_result"
    }
   ],
   "execution_count": 20
  },
  {
   "metadata": {},
   "cell_type": "markdown",
   "source": "*R² 为 0.705 表示模型能解释 70.5% 的房价变化*",
   "id": "58bc5338ab9599cf"
  },
  {
   "metadata": {},
   "cell_type": "markdown",
   "source": "### 6.3 可视化预测结果",
   "id": "24be9ef7e34d29e"
  },
  {
   "metadata": {
    "ExecuteTime": {
     "end_time": "2025-03-16T09:19:38.187126Z",
     "start_time": "2025-03-16T09:19:38.040634Z"
    }
   },
   "cell_type": "code",
   "source": [
    "plt.plot(y_test, y_predict1, 'g.')\n",
    "plt.plot([0, 50], [0, 50], 'r--')\n",
    "plt.xlabel('True Prices')\n",
    "plt.ylabel('Predicted Prices')\n",
    "plt.title('True vs Predicted Prices')"
   ],
   "id": "8dd3c9d20ad77795",
   "outputs": [
    {
     "data": {
      "text/plain": [
       "Text(0.5, 1.0, 'True vs Predicted Prices')"
      ]
     },
     "execution_count": 21,
     "metadata": {},
     "output_type": "execute_result"
    },
    {
     "data": {
      "text/plain": [
       "<Figure size 640x480 with 1 Axes>"
      ],
      "image/png": "[encoded data removed]"
     },
     "metadata": {},
     "output_type": "display_data"
    }
   ],
   "execution_count": 21
  },
  {
   "metadata": {},
   "cell_type": "markdown",
   "source": "*点越接近红色虚线，预测越准确*",
   "id": "b5480e7a1e6a37a9"
  },
  {
   "metadata": {},
   "cell_type": "markdown",
   "source": "## 7. 实际应用：预测新数据",
   "id": "718fa448c19142e8"
  },
  {
   "metadata": {
    "ExecuteTime": {
     "end_time": "2025-03-16T09:19:39.752014Z",
     "start_time": "2025-03-16T09:19:39.742878Z"
    }
   },
   "cell_type": "code",
   "source": "data[high_corr][:10]",
   "id": "b02b7f3dc8daf1ba",
   "outputs": [
    {
     "data": {
      "text/plain": [
       "   MEDV     RM  PTRATIO  LSTAT\n",
       "0  24.0  6.575     15.3   4.98\n",
       "1  21.6  6.421     17.8   9.14\n",
       "2  34.7  7.185     17.8   4.03\n",
       "3  33.4  6.998     18.7   2.94\n",
       "4  36.2  7.147     18.7   5.33\n",
       "5  28.7  6.430     18.7   5.21\n",
       "6  22.9  6.012     15.2  12.43\n",
       "7  27.1  6.172     15.2  19.15\n",
       "8  16.5  5.631     15.2  29.93\n",
       "9  18.9  6.004     15.2  17.10"
      ],
      "text/html": [
       "<div>\n",
       "<style scoped>\n",
       "    .dataframe tbody tr th:only-of-type {\n",
       "        vertical-align: middle;\n",
       "    }\n",
       "\n",
       "    .dataframe tbody tr th {\n",
       "        vertical-align: top;\n",
       "    }\n",
       "\n",
       "    .dataframe thead th {\n",
       "        text-align: right;\n",
       "    }\n",
       "</style>\n",
       "<table border=\"1\" class=\"dataframe\">\n",
       "  <thead>\n",
       "    <tr style=\"text-align: right;\">\n",
       "      <th></th>\n",
       "      <th>MEDV</th>\n",
       "      <th>RM</th>\n",
       "      <th>PTRATIO</th>\n",
       "      <th>LSTAT</th>\n",
       "    </tr>\n",
       "  </thead>\n",
       "  <tbody>\n",
       "    <tr>\n",
       "      <th>0</th>\n",
       "      <td>24.0</td>\n",
       "      <td>6.575</td>\n",
       "      <td>15.3</td>\n",
       "      <td>4.98</td>\n",
       "    </tr>\n",
       "    <tr>\n",
       "      <th>1</th>\n",
       "      <td>21.6</td>\n",
       "      <td>6.421</td>\n",
       "      <td>17.8</td>\n",
       "      <td>9.14</td>\n",
       "    </tr>\n",
       "    <tr>\n",
       "      <th>2</th>\n",
       "      <td>34.7</td>\n",
       "      <td>7.185</td>\n",
       "      <td>17.8</td>\n",
       "      <td>4.03</td>\n",
       "    </tr>\n",
       "    <tr>\n",
       "      <th>3</th>\n",
       "      <td>33.4</td>\n",
       "      <td>6.998</td>\n",
       "      <td>18.7</td>\n",
       "      <td>2.94</td>\n",
       "    </tr>\n",
       "    <tr>\n",
       "      <th>4</th>\n",
       "      <td>36.2</td>\n",
       "      <td>7.147</td>\n",
       "      <td>18.7</td>\n",
       "      <td>5.33</td>\n",
       "    </tr>\n",
       "    <tr>\n",
       "      <th>5</th>\n",
       "      <td>28.7</td>\n",
       "      <td>6.430</td>\n",
       "      <td>18.7</td>\n",
       "      <td>5.21</td>\n",
       "    </tr>\n",
       "    <tr>\n",
       "      <th>6</th>\n",
       "      <td>22.9</td>\n",
       "      <td>6.012</td>\n",
       "      <td>15.2</td>\n",
       "      <td>12.43</td>\n",
       "    </tr>\n",
       "    <tr>\n",
       "      <th>7</th>\n",
       "      <td>27.1</td>\n",
       "      <td>6.172</td>\n",
       "      <td>15.2</td>\n",
       "      <td>19.15</td>\n",
       "    </tr>\n",
       "    <tr>\n",
       "      <th>8</th>\n",
       "      <td>16.5</td>\n",
       "      <td>5.631</td>\n",
       "      <td>15.2</td>\n",
       "      <td>29.93</td>\n",
       "    </tr>\n",
       "    <tr>\n",
       "      <th>9</th>\n",
       "      <td>18.9</td>\n",
       "      <td>6.004</td>\n",
       "      <td>15.2</td>\n",
       "      <td>17.10</td>\n",
       "    </tr>\n",
       "  </tbody>\n",
       "</table>\n",
       "</div>"
      ]
     },
     "execution_count": 22,
     "metadata": {},
     "output_type": "execute_result"
    }
   ],
   "execution_count": 22
  },
  {
   "metadata": {},
   "cell_type": "markdown",
   "source": [
    "- MEDV 房价\n",
    "- RM 房间数\n",
    "- PTRATIO 城镇中教师学生比例\n",
    "- LSTAT 地区有多少房东属于是低收入阶层"
   ],
   "id": "c1f84e7f3aa767c6"
  },
  {
   "metadata": {
    "ExecuteTime": {
     "end_time": "2025-03-16T09:19:40.871440Z",
     "start_time": "2025-03-16T09:19:40.866553Z"
    }
   },
   "cell_type": "code",
   "source": [
    "new_data = scaler.transform([[7, 10, 5]])\n",
    "predicted_price = model.predict(new_data)\n",
    "print(f\"Predicted MEDV: ${predicted_price[0, 0] * 1000:.2f}\")"
   ],
   "id": "d807fbc8a94a3d9b",
   "outputs": [
    {
     "name": "stdout",
     "output_type": "stream",
     "text": [
      "Predicted MEDV: $38298.70\n"
     ]
    }
   ],
   "execution_count": 23
  },
  {
   "metadata": {
    "ExecuteTime": {
     "end_time": "2025-03-16T09:19:41.320431Z",
     "start_time": "2025-03-16T09:19:41.316771Z"
    }
   },
   "cell_type": "code",
   "source": [
    "new_data = scaler.transform([[4, 20, 30]])\n",
    "predicted_price = model.predict(new_data)\n",
    "print(f\"Predicted MEDV: ${predicted_price[0, 0] * 1000:.2f}\")"
   ],
   "id": "7b7a9d6ec70c90ca",
   "outputs": [
    {
     "name": "stdout",
     "output_type": "stream",
     "text": [
      "Predicted MEDV: $1089.19\n"
     ]
    }
   ],
   "execution_count": 24
  },
  {
   "metadata": {},
   "cell_type": "markdown",
   "source": "## 8. 优化方向",
   "id": "a6c1f27a81df5de2"
  },
  {
   "metadata": {
    "ExecuteTime": {
     "end_time": "2025-03-16T09:19:42.446675Z",
     "start_time": "2025-03-16T09:19:42.441061Z"
    }
   },
   "cell_type": "code",
   "source": "correlation",
   "id": "55d6bd5d726203a9",
   "outputs": [
    {
     "data": {
      "text/plain": [
       "MEDV       1.000000\n",
       "RM         0.695360\n",
       "ZN         0.360445\n",
       "B          0.333461\n",
       "DIS        0.249929\n",
       "CHAS       0.175260\n",
       "AGE       -0.376955\n",
       "RAD       -0.381626\n",
       "CRIM      -0.388305\n",
       "NOX       -0.427321\n",
       "TAX       -0.468536\n",
       "INDUS     -0.483725\n",
       "PTRATIO   -0.507787\n",
       "LSTAT     -0.737663\n",
       "Name: MEDV, dtype: float64"
      ]
     },
     "execution_count": 25,
     "metadata": {},
     "output_type": "execute_result"
    }
   ],
   "execution_count": 25
  },
  {
   "metadata": {},
   "cell_type": "markdown",
   "source": [
    "### 8.1 增加更多特征\n",
    "选择 abs(correlation) >= 0.45 的特征值"
   ],
   "id": "934436bf474c146f"
  },
  {
   "metadata": {
    "ExecuteTime": {
     "end_time": "2025-03-16T09:19:43.409879Z",
     "start_time": "2025-03-16T09:19:43.405233Z"
    }
   },
   "cell_type": "code",
   "source": [
    "high_corr2 = correlation[correlation.abs() >= 0.45].index\n",
    "high_corr2"
   ],
   "id": "eda16af82210bc83",
   "outputs": [
    {
     "data": {
      "text/plain": [
       "Index(['MEDV', 'RM', 'TAX', 'INDUS', 'PTRATIO', 'LSTAT'], dtype='object')"
      ]
     },
     "execution_count": 26,
     "metadata": {},
     "output_type": "execute_result"
    }
   ],
   "execution_count": 26
  },
  {
   "metadata": {},
   "cell_type": "markdown",
   "source": "***获取数据***",
   "id": "2cb53816b5cf2cf"
  },
  {
   "metadata": {
    "ExecuteTime": {
     "end_time": "2025-03-16T09:19:44.413704Z",
     "start_time": "2025-03-16T09:19:44.406945Z"
    }
   },
   "cell_type": "code",
   "source": [
    "index = [i for i in range(len(names)) if names[i] in high_corr2][:-1]\n",
    "high_corr_data2 = data_shuffle[:, index]\n",
    "high_corr_data2[:10]"
   ],
   "id": "d8a57b18bc231458",
   "outputs": [
    {
     "data": {
      "text/plain": [
       "array([[  6.09 ,   6.59 , 329.   ,  16.1  ,   9.5  ],\n",
       "       [  3.97 ,   8.398, 264.   ,  13.   ,   5.91 ],\n",
       "       [  4.05 ,   5.572, 296.   ,  16.6  ,  14.69 ],\n",
       "       [ 11.93 ,   6.03 , 273.   ,  21.   ,   7.88 ],\n",
       "       [ 10.01 ,   6.715, 432.   ,  17.8  ,  10.16 ],\n",
       "       [ 18.1  ,   4.906, 666.   ,  20.2  ,  34.77 ],\n",
       "       [ 10.59 ,   5.404, 277.   ,  18.6  ,  23.98 ],\n",
       "       [ 18.1  ,   5.155, 666.   ,  20.2  ,  20.08 ],\n",
       "       [  4.93 ,   6.606, 300.   ,  16.6  ,   7.37 ],\n",
       "       [  5.86 ,   5.593, 330.   ,  19.1  ,  12.5  ]])"
      ]
     },
     "execution_count": 27,
     "metadata": {},
     "output_type": "execute_result"
    }
   ],
   "execution_count": 27
  },
  {
   "metadata": {
    "ExecuteTime": {
     "end_time": "2025-03-16T09:19:44.940224Z",
     "start_time": "2025-03-16T09:19:44.933660Z"
    }
   },
   "cell_type": "code",
   "source": "target",
   "id": "1dd8ab1f1ad61e87",
   "outputs": [
    {
     "data": {
      "text/plain": [
       "array([[22. ],\n",
       "       [48.8],\n",
       "       [23.1],\n",
       "       [11.9],\n",
       "       [22.8],\n",
       "       [13.8],\n",
       "       [19.3],\n",
       "       [16.3],\n",
       "       [23.3],\n",
       "       [17.6],\n",
       "       [18.1],\n",
       "       [21.2],\n",
       "       [17.5],\n",
       "       [13.4],\n",
       "       [22. ],\n",
       "       [10.9],\n",
       "       [ 7.2],\n",
       "       [ 5. ],\n",
       "       [20.6],\n",
       "       [16.5],\n",
       "       [43.5],\n",
       "       [13.9],\n",
       "       [20.8],\n",
       "       [18. ],\n",
       "       [20.4],\n",
       "       [18.5],\n",
       "       [22. ],\n",
       "       [16.8],\n",
       "       [19.6],\n",
       "       [22.9],\n",
       "       [23.3],\n",
       "       [14.6],\n",
       "       [19.8],\n",
       "       [20.6],\n",
       "       [24.4],\n",
       "       [20.8],\n",
       "       [21.7],\n",
       "       [22.8],\n",
       "       [13.1],\n",
       "       [18.9],\n",
       "       [42.8],\n",
       "       [33.2],\n",
       "       [16.7],\n",
       "       [22.3],\n",
       "       [29.8],\n",
       "       [18.9],\n",
       "       [18.8],\n",
       "       [28.7],\n",
       "       [23.1],\n",
       "       [13.3],\n",
       "       [35.4],\n",
       "       [15.6],\n",
       "       [13.1],\n",
       "       [ 8.3],\n",
       "       [19.6],\n",
       "       [32.9],\n",
       "       [ 8.5],\n",
       "       [25. ],\n",
       "       [13.3],\n",
       "       [22. ],\n",
       "       [13.8],\n",
       "       [36.2],\n",
       "       [19.5],\n",
       "       [24.3],\n",
       "       [32. ],\n",
       "       [19.3],\n",
       "       [23.8],\n",
       "       [17.5],\n",
       "       [22.9],\n",
       "       [18.4],\n",
       "       [20.3],\n",
       "       [24.4],\n",
       "       [21.7],\n",
       "       [13.5],\n",
       "       [34.9],\n",
       "       [24.1],\n",
       "       [43.1],\n",
       "       [16.6],\n",
       "       [13.8],\n",
       "       [10.5],\n",
       "       [15.7],\n",
       "       [10.2],\n",
       "       [42.3],\n",
       "       [33. ],\n",
       "       [50. ],\n",
       "       [16.4],\n",
       "       [32.7],\n",
       "       [21.4],\n",
       "       [22.6],\n",
       "       [16.2],\n",
       "       [34.7],\n",
       "       [21.9],\n",
       "       [21.9],\n",
       "       [18.9],\n",
       "       [23.3],\n",
       "       [26.7],\n",
       "       [18.9],\n",
       "       [36.2],\n",
       "       [21.7],\n",
       "       [21.7],\n",
       "       [14.6],\n",
       "       [ 5.6],\n",
       "       [30.5],\n",
       "       [ 8.4],\n",
       "       [29.6],\n",
       "       [15.4],\n",
       "       [23.4],\n",
       "       [21.5],\n",
       "       [21.8],\n",
       "       [38.7],\n",
       "       [29.4],\n",
       "       [21.4],\n",
       "       [20.5],\n",
       "       [50. ],\n",
       "       [22.2],\n",
       "       [20.7],\n",
       "       [25. ],\n",
       "       [20.2],\n",
       "       [11.7],\n",
       "       [29. ],\n",
       "       [24.3],\n",
       "       [ 9.5],\n",
       "       [18.3],\n",
       "       [50. ],\n",
       "       [24.1],\n",
       "       [11.7],\n",
       "       [22. ],\n",
       "       [50. ],\n",
       "       [46.7],\n",
       "       [23.9],\n",
       "       [34.9],\n",
       "       [20.4],\n",
       "       [17.8],\n",
       "       [15.6],\n",
       "       [13.4],\n",
       "       [24.7],\n",
       "       [36.4],\n",
       "       [23.7],\n",
       "       [23.5],\n",
       "       [23.2],\n",
       "       [22.9],\n",
       "       [19.1],\n",
       "       [20.9],\n",
       "       [26.4],\n",
       "       [21.2],\n",
       "       [20.1],\n",
       "       [24.5],\n",
       "       [10.4],\n",
       "       [28.2],\n",
       "       [10.9],\n",
       "       [19.5],\n",
       "       [17.8],\n",
       "       [14.3],\n",
       "       [26.6],\n",
       "       [50. ],\n",
       "       [18.7],\n",
       "       [23.8],\n",
       "       [31.6],\n",
       "       [22.5],\n",
       "       [27.5],\n",
       "       [24.4],\n",
       "       [21.1],\n",
       "       [37. ],\n",
       "       [10.4],\n",
       "       [28. ],\n",
       "       [30.3],\n",
       "       [33.1],\n",
       "       [24. ],\n",
       "       [19.1],\n",
       "       [20.3],\n",
       "       [13.1],\n",
       "       [21.7],\n",
       "       [22.8],\n",
       "       [16.2],\n",
       "       [31.2],\n",
       "       [17.8],\n",
       "       [14.1],\n",
       "       [14.1],\n",
       "       [25. ],\n",
       "       [16.1],\n",
       "       [19.4],\n",
       "       [33.1],\n",
       "       [20.3],\n",
       "       [15.2],\n",
       "       [21.4],\n",
       "       [28.4],\n",
       "       [21. ],\n",
       "       [19.5],\n",
       "       [16.5],\n",
       "       [50. ],\n",
       "       [13.3],\n",
       "       [16. ],\n",
       "       [20.5],\n",
       "       [ 9.6],\n",
       "       [31.1],\n",
       "       [22. ],\n",
       "       [23.7],\n",
       "       [33.2],\n",
       "       [28.6],\n",
       "       [36. ],\n",
       "       [23.7],\n",
       "       [22.9],\n",
       "       [43.8],\n",
       "       [23.2],\n",
       "       [33.4],\n",
       "       [20. ],\n",
       "       [16.8],\n",
       "       [17. ],\n",
       "       [20.1],\n",
       "       [20.6],\n",
       "       [24.7],\n",
       "       [29.9],\n",
       "       [23. ],\n",
       "       [24.8],\n",
       "       [27.9],\n",
       "       [17.4],\n",
       "       [14.9],\n",
       "       [50. ],\n",
       "       [12.8],\n",
       "       [19.4],\n",
       "       [14.4],\n",
       "       [13.8],\n",
       "       [14.5],\n",
       "       [12. ],\n",
       "       [50. ],\n",
       "       [27.1],\n",
       "       [17.7],\n",
       "       [20.9],\n",
       "       [48.3],\n",
       "       [22.7],\n",
       "       [18.3],\n",
       "       [14.9],\n",
       "       [27.5],\n",
       "       [12.7],\n",
       "       [32. ],\n",
       "       [20.1],\n",
       "       [15.1],\n",
       "       [12.1],\n",
       "       [13.4],\n",
       "       [23.8],\n",
       "       [27.5],\n",
       "       [19.7],\n",
       "       [22.7],\n",
       "       [21.2],\n",
       "       [25.2],\n",
       "       [22.5],\n",
       "       [23.9],\n",
       "       [20. ],\n",
       "       [29.1],\n",
       "       [50. ],\n",
       "       [13.6],\n",
       "       [30.1],\n",
       "       [20.8],\n",
       "       [21.7],\n",
       "       [20.7],\n",
       "       [26.5],\n",
       "       [19.4],\n",
       "       [10.2],\n",
       "       [14.2],\n",
       "       [15.3],\n",
       "       [21.4],\n",
       "       [46. ],\n",
       "       [24.2],\n",
       "       [20.6],\n",
       "       [50. ],\n",
       "       [19.2],\n",
       "       [20. ],\n",
       "       [13.8],\n",
       "       [26.4],\n",
       "       [23. ],\n",
       "       [36.5],\n",
       "       [32.5],\n",
       "       [28.4],\n",
       "       [36.1],\n",
       "       [10.5],\n",
       "       [22.1],\n",
       "       [23.2],\n",
       "       [25. ],\n",
       "       [19.6],\n",
       "       [24.5],\n",
       "       [11.8],\n",
       "       [21.5],\n",
       "       [37.2],\n",
       "       [14.5],\n",
       "       [50. ],\n",
       "       [21.2],\n",
       "       [23.1],\n",
       "       [44. ],\n",
       "       [13.2],\n",
       "       [29.1],\n",
       "       [50. ],\n",
       "       [28.7],\n",
       "       [23.6],\n",
       "       [20.1],\n",
       "       [ 8.7],\n",
       "       [28.7],\n",
       "       [12.3],\n",
       "       [18.6],\n",
       "       [15.6],\n",
       "       [14. ],\n",
       "       [ 8.3],\n",
       "       [22.2],\n",
       "       [26.2],\n",
       "       [44.8],\n",
       "       [22.2],\n",
       "       [16.6],\n",
       "       [17.1],\n",
       "       [ 6.3],\n",
       "       [19. ],\n",
       "       [28.1],\n",
       "       [17.2],\n",
       "       [19.3],\n",
       "       [19.5],\n",
       "       [34.6],\n",
       "       [37.9],\n",
       "       [15. ],\n",
       "       [20.4],\n",
       "       [27.1],\n",
       "       [13.9],\n",
       "       [35.1],\n",
       "       [18.5],\n",
       "       [15.2],\n",
       "       [24.4],\n",
       "       [11.8],\n",
       "       [28.5],\n",
       "       [24.7],\n",
       "       [11. ],\n",
       "       [21.6],\n",
       "       [24.3],\n",
       "       [18.2],\n",
       "       [11.5],\n",
       "       [35.4],\n",
       "       [24.5],\n",
       "       [27.5],\n",
       "       [29.6],\n",
       "       [35.2],\n",
       "       [ 8.1],\n",
       "       [13.6],\n",
       "       [23.3],\n",
       "       [31.6],\n",
       "       [30.1],\n",
       "       [22.8],\n",
       "       [23.9],\n",
       "       [50. ],\n",
       "       [21. ],\n",
       "       [17.4],\n",
       "       [24.1],\n",
       "       [23.1],\n",
       "       [14.4],\n",
       "       [ 9.7],\n",
       "       [ 7.2],\n",
       "       [30.1],\n",
       "       [20.6],\n",
       "       [12.7],\n",
       "       [25. ],\n",
       "       [24. ],\n",
       "       [18.7],\n",
       "       [23. ],\n",
       "       [ 8.4],\n",
       "       [13.4],\n",
       "       [22.4],\n",
       "       [14.8],\n",
       "       [29.8],\n",
       "       [25. ],\n",
       "       [20. ],\n",
       "       [19.9],\n",
       "       [22.5],\n",
       "       [ 7.4],\n",
       "       [19.8],\n",
       "       [22.2],\n",
       "       [19.1],\n",
       "       [19.7],\n",
       "       [29. ],\n",
       "       [21.2],\n",
       "       [ 5. ],\n",
       "       [17.4],\n",
       "       [17.8],\n",
       "       [25. ],\n",
       "       [17.8],\n",
       "       [27.9],\n",
       "       [16.7],\n",
       "       [18.5],\n",
       "       [13.5],\n",
       "       [50. ],\n",
       "       [16.1],\n",
       "       [27. ],\n",
       "       [17.3],\n",
       "       [19.8],\n",
       "       [15.4],\n",
       "       [ 8.5],\n",
       "       [22.3],\n",
       "       [19.9],\n",
       "       [39.8],\n",
       "       [17.2],\n",
       "       [31.7],\n",
       "       [24.8],\n",
       "       [18.2],\n",
       "       [37.3],\n",
       "       [50. ],\n",
       "       [20. ],\n",
       "       [11.9],\n",
       "       [18.8],\n",
       "       [22.6],\n",
       "       [24.6],\n",
       "       [18.4],\n",
       "       [22.6],\n",
       "       [18.7],\n",
       "       [32.2],\n",
       "       [16.1],\n",
       "       [23. ],\n",
       "       [19.3],\n",
       "       [22.6],\n",
       "       [23.1],\n",
       "       [ 7. ],\n",
       "       [17.2],\n",
       "       [32.4],\n",
       "       [22.2],\n",
       "       [37.6],\n",
       "       [19.6],\n",
       "       [19.1],\n",
       "       [20.5],\n",
       "       [23.9],\n",
       "       [25.3],\n",
       "       [17.1],\n",
       "       [25.1],\n",
       "       [19.2],\n",
       "       [24.8],\n",
       "       [21.8],\n",
       "       [11.3],\n",
       "       [21.9],\n",
       "       [23.6],\n",
       "       [19.4],\n",
       "       [21. ],\n",
       "       [23.4],\n",
       "       [22.4],\n",
       "       [25. ],\n",
       "       [22. ],\n",
       "       [14.3],\n",
       "       [19. ],\n",
       "       [19.3],\n",
       "       [45.4],\n",
       "       [23.7],\n",
       "       [23.2],\n",
       "       [31.5],\n",
       "       [10.2],\n",
       "       [19.4],\n",
       "       [31. ],\n",
       "       [33.8],\n",
       "       [20.6],\n",
       "       [17.9],\n",
       "       [19.6],\n",
       "       [20.1],\n",
       "       [12.6],\n",
       "       [15.2],\n",
       "       [23.8],\n",
       "       [20.2],\n",
       "       [26.6],\n",
       "       [14.9],\n",
       "       [20.3],\n",
       "       [41.7],\n",
       "       [13. ],\n",
       "       [33.4],\n",
       "       [17.1],\n",
       "       [ 8.8],\n",
       "       [15. ],\n",
       "       [23.1],\n",
       "       [21.4],\n",
       "       [ 7. ],\n",
       "       [21.6],\n",
       "       [24.6],\n",
       "       [50. ],\n",
       "       [19.4],\n",
       "       [19.9],\n",
       "       [18.6],\n",
       "       [21.1],\n",
       "       [41.3],\n",
       "       [10.8],\n",
       "       [22.6],\n",
       "       [24.8],\n",
       "       [18.2],\n",
       "       [23.9],\n",
       "       [30.8],\n",
       "       [19.9],\n",
       "       [33.3],\n",
       "       [15.6],\n",
       "       [30.7],\n",
       "       [23.1],\n",
       "       [ 7.5],\n",
       "       [14.5],\n",
       "       [ 7.2],\n",
       "       [31.5],\n",
       "       [17.5],\n",
       "       [21.7],\n",
       "       [14.1],\n",
       "       [20.4],\n",
       "       [26.6],\n",
       "       [48.5],\n",
       "       [34.9],\n",
       "       [15.6],\n",
       "       [13.1],\n",
       "       [ 8.8],\n",
       "       [15. ],\n",
       "       [18.4],\n",
       "       [12.5],\n",
       "       [18.5],\n",
       "       [12.7]])"
      ]
     },
     "execution_count": 28,
     "metadata": {},
     "output_type": "execute_result"
    }
   ],
   "execution_count": 28
  },
  {
   "metadata": {},
   "cell_type": "markdown",
   "source": "***查看线性关系***",
   "id": "38311e54fb617ac3"
  },
  {
   "metadata": {
    "ExecuteTime": {
     "end_time": "2025-03-16T09:19:46.965006Z",
     "start_time": "2025-03-16T09:19:46.366871Z"
    }
   },
   "cell_type": "code",
   "source": [
    "import seaborn as sns\n",
    "data_index = high_corr2.drop('MEDV')\n",
    "matrix = sns.pairplot(data[high_corr2], x_vars=data_index, y_vars=['MEDV'], plot_kws={'alpha': 0.6})\n",
    "plt.suptitle('Scatter matrix', y=1.04)"
   ],
   "id": "120966800cee1cec",
   "outputs": [
    {
     "data": {
      "text/plain": [
       "Text(0.5, 1.04, 'Scatter matrix')"
      ]
     },
     "execution_count": 29,
     "metadata": {},
     "output_type": "execute_result"
    },
    {
     "data": {
      "text/plain": [
       "<Figure size 1250x250 with 5 Axes>"
      ],
      "image/png": "[encoded data removed]"
     },
     "metadata": {},
     "output_type": "display_data"
    }
   ],
   "execution_count": 29
  },
  {
   "metadata": {},
   "cell_type": "markdown",
   "source": [
    "*较为明显的是 RM 存在线性关系，而 LSTAT 存在非线性关系*  \n",
    "***做线性与多项式进一步对比确认***"
   ],
   "id": "91a7de1e25f868b"
  },
  {
   "metadata": {},
   "cell_type": "markdown",
   "source": "### 8.2 尝试线性关系",
   "id": "eaac4c2992cd648"
  },
  {
   "metadata": {},
   "cell_type": "markdown",
   "source": "***标准化***",
   "id": "9c6842c6c969a0fa"
  },
  {
   "metadata": {
    "ExecuteTime": {
     "end_time": "2025-03-16T09:19:48.857736Z",
     "start_time": "2025-03-16T09:19:48.852606Z"
    }
   },
   "cell_type": "code",
   "source": [
    "scaler2 = StandardScaler()\n",
    "high_corr_data_scaler2 = scaler2.fit_transform(high_corr_data2)\n",
    "high_corr_data_scaler2[:10]"
   ],
   "id": "57f9457ac02e9fd2",
   "outputs": [
    {
     "data": {
      "text/plain": [
       "array([[-0.73637217,  0.43504177, -0.47061187, -1.08911039, -0.4419768 ],\n",
       "       [-1.04569998,  3.01082466, -0.85666526, -2.52243411, -0.94520069],\n",
       "       [-1.03402724, -1.01526076, -0.66660821, -0.85792914,  0.28552513],\n",
       "       [ 0.11573841, -0.36276709, -0.80321172,  1.17646583, -0.66905833],\n",
       "       [-0.16440754,  0.6131241 ,  0.14113426, -0.30309415, -0.34946211],\n",
       "       [ 1.01599907, -1.96408344,  1.53092646,  0.80657583,  3.1002147 ],\n",
       "       [-0.07978012, -1.25460342, -0.77945458,  0.06679585,  1.58773958],\n",
       "       [ 1.01599907, -1.60934343,  1.53092646,  0.80657583,  1.04106182],\n",
       "       [-0.90562701,  0.45783631, -0.64285108, -0.85792914, -0.74054696],\n",
       "       [-0.76993132, -0.98534293, -0.46467259,  0.29797709, -0.02145545]])"
      ]
     },
     "execution_count": 30,
     "metadata": {},
     "output_type": "execute_result"
    }
   ],
   "execution_count": 30
  },
  {
   "metadata": {},
   "cell_type": "markdown",
   "source": "***切分数据集***",
   "id": "5cfbcda97845bc9b"
  },
  {
   "metadata": {
    "ExecuteTime": {
     "end_time": "2025-03-16T09:19:50.199334Z",
     "start_time": "2025-03-16T09:19:50.192860Z"
    }
   },
   "cell_type": "code",
   "source": [
    "X_train2, X_test2, y_train2, y_test2 = train_test_split(high_corr_data_scaler2, target, test_size=0.2, random_state=15)\n",
    "m1 = len(X_train2)\n",
    "m2 = len(X_test2)\n",
    "m1"
   ],
   "id": "ca1b7c8fca64124a",
   "outputs": [
    {
     "data": {
      "text/plain": [
       "404"
      ]
     },
     "execution_count": 31,
     "metadata": {},
     "output_type": "execute_result"
    }
   ],
   "execution_count": 31
  },
  {
   "metadata": {},
   "cell_type": "markdown",
   "source": "***直接使用函数***",
   "id": "93190819baf8c110"
  },
  {
   "metadata": {
    "ExecuteTime": {
     "end_time": "2025-03-16T09:19:51.107409Z",
     "start_time": "2025-03-16T09:19:51.100988Z"
    }
   },
   "cell_type": "code",
   "source": [
    "model2 = LinearRegression()\n",
    "model2.fit(X_train2, y_train2)"
   ],
   "id": "95cdd4c2f58291c3",
   "outputs": [
    {
     "data": {
      "text/plain": [
       "LinearRegression()"
      ],
      "text/html": [
       "<style>#sk-container-id-2 {\n",
       "  /* Definition of color scheme common for light and dark mode */\n",
       "  --sklearn-color-text: #000;\n",
       "  --sklearn-color-text-muted: #666;\n",
       "  --sklearn-color-line: gray;\n",
       "  /* Definition of color scheme for unfitted estimators */\n",
       "  --sklearn-color-unfitted-level-0: #fff5e6;\n",
       "  --sklearn-color-unfitted-level-1: #f6e4d2;\n",
       "  --sklearn-color-unfitted-level-2: #ffe0b3;\n",
       "  --sklearn-color-unfitted-level-3: chocolate;\n",
       "  /* Definition of color scheme for fitted estimators */\n",
       "  --sklearn-color-fitted-level-0: #f0f8ff;\n",
       "  --sklearn-color-fitted-level-1: #d4ebff;\n",
       "  --sklearn-color-fitted-level-2: #b3dbfd;\n",
       "  --sklearn-color-fitted-level-3: cornflowerblue;\n",
       "\n",
       "  /* Specific color for light theme */\n",
       "  --sklearn-color-text-on-default-background: var(--sg-text-color, var(--theme-code-foreground, var(--jp-content-font-color1, black)));\n",
       "  --sklearn-color-background: var(--sg-background-color, var(--theme-background, var(--jp-layout-color0, white)));\n",
       "  --sklearn-color-border-box: var(--sg-text-color, var(--theme-code-foreground, var(--jp-content-font-color1, black)));\n",
       "  --sklearn-color-icon: #696969;\n",
       "\n",
       "  @media (prefers-color-scheme: dark) {\n",
       "    /* Redefinition of color scheme for dark theme */\n",
       "    --sklearn-color-text-on-default-background: var(--sg-text-color, var(--theme-code-foreground, var(--jp-content-font-color1, white)));\n",
       "    --sklearn-color-background: var(--sg-background-color, var(--theme-background, var(--jp-layout-color0, #111)));\n",
       "    --sklearn-color-border-box: var(--sg-text-color, var(--theme-code-foreground, var(--jp-content-font-color1, white)));\n",
       "    --sklearn-color-icon: #878787;\n",
       "  }\n",
       "}\n",
       "\n",
       "#sk-container-id-2 {\n",
       "  color: var(--sklearn-color-text);\n",
       "}\n",
       "\n",
       "#sk-container-id-2 pre {\n",
       "  padding: 0;\n",
       "}\n",
       "\n",
       "#sk-container-id-2 input.sk-hidden--visually {\n",
       "  border: 0;\n",
       "  clip: rect(1px 1px 1px 1px);\n",
       "  clip: rect(1px, 1px, 1px, 1px);\n",
       "  height: 1px;\n",
       "  margin: -1px;\n",
       "  overflow: hidden;\n",
       "  padding: 0;\n",
       "  position: absolute;\n",
       "  width: 1px;\n",
       "}\n",
       "\n",
       "#sk-container-id-2 div.sk-dashed-wrapped {\n",
       "  border: 1px dashed var(--sklearn-color-line);\n",
       "  margin: 0 0.4em 0.5em 0.4em;\n",
       "  box-sizing: border-box;\n",
       "  padding-bottom: 0.4em;\n",
       "  background-color: var(--sklearn-color-background);\n",
       "}\n",
       "\n",
       "#sk-container-id-2 div.sk-container {\n",
       "  /* jupyter's `normalize.less` sets `[hidden] { display: none; }`\n",
       "     but bootstrap.min.css set `[hidden] { display: none !important; }`\n",
       "     so we also need the `!important` here to be able to override the\n",
       "     default hidden behavior on the sphinx rendered scikit-learn.org.\n",
       "     See: https://github.com/scikit-learn/scikit-learn/issues/21755 */\n",
       "  display: inline-block !important;\n",
       "  position: relative;\n",
       "}\n",
       "\n",
       "#sk-container-id-2 div.sk-text-repr-fallback {\n",
       "  display: none;\n",
       "}\n",
       "\n",
       "div.sk-parallel-item,\n",
       "div.sk-serial,\n",
       "div.sk-item {\n",
       "  /* draw centered vertical line to link estimators */\n",
       "  background-image: linear-gradient(var(--sklearn-color-text-on-default-background), var(--sklearn-color-text-on-default-background));\n",
       "  background-size: 2px 100%;\n",
       "  background-repeat: no-repeat;\n",
       "  background-position: center center;\n",
       "}\n",
       "\n",
       "/* Parallel-specific style estimator block */\n",
       "\n",
       "#sk-container-id-2 div.sk-parallel-item::after {\n",
       "  content: \"\";\n",
       "  width: 100%;\n",
       "  border-bottom: 2px solid var(--sklearn-color-text-on-default-background);\n",
       "  flex-grow: 1;\n",
       "}\n",
       "\n",
       "#sk-container-id-2 div.sk-parallel {\n",
       "  display: flex;\n",
       "  align-items: stretch;\n",
       "  justify-content: center;\n",
       "  background-color: var(--sklearn-color-background);\n",
       "  position: relative;\n",
       "}\n",
       "\n",
       "#sk-container-id-2 div.sk-parallel-item {\n",
       "  display: flex;\n",
       "  flex-direction: column;\n",
       "}\n",
       "\n",
       "#sk-container-id-2 div.sk-parallel-item:first-child::after {\n",
       "  align-self: flex-end;\n",
       "  width: 50%;\n",
       "}\n",
       "\n",
       "#sk-container-id-2 div.sk-parallel-item:last-child::after {\n",
       "  align-self: flex-start;\n",
       "  width: 50%;\n",
       "}\n",
       "\n",
       "#sk-container-id-2 div.sk-parallel-item:only-child::after {\n",
       "  width: 0;\n",
       "}\n",
       "\n",
       "/* Serial-specific style estimator block */\n",
       "\n",
       "#sk-container-id-2 div.sk-serial {\n",
       "  display: flex;\n",
       "  flex-direction: column;\n",
       "  align-items: center;\n",
       "  background-color: var(--sklearn-color-background);\n",
       "  padding-right: 1em;\n",
       "  padding-left: 1em;\n",
       "}\n",
       "\n",
       "\n",
       "/* Toggleable style: style used for estimator/Pipeline/ColumnTransformer box that is\n",
       "clickable and can be expanded/collapsed.\n",
       "- Pipeline and ColumnTransformer use this feature and define the default style\n",
       "- Estimators will overwrite some part of the style using the `sk-estimator` class\n",
       "*/\n",
       "\n",
       "/* Pipeline and ColumnTransformer style (default) */\n",
       "\n",
       "#sk-container-id-2 div.sk-toggleable {\n",
       "  /* Default theme specific background. It is overwritten whether we have a\n",
       "  specific estimator or a Pipeline/ColumnTransformer */\n",
       "  background-color: var(--sklearn-color-background);\n",
       "}\n",
       "\n",
       "/* Toggleable label */\n",
       "#sk-container-id-2 label.sk-toggleable__label {\n",
       "  cursor: pointer;\n",
       "  display: flex;\n",
       "  width: 100%;\n",
       "  margin-bottom: 0;\n",
       "  padding: 0.5em;\n",
       "  box-sizing: border-box;\n",
       "  text-align: center;\n",
       "  align-items: start;\n",
       "  justify-content: space-between;\n",
       "  gap: 0.5em;\n",
       "}\n",
       "\n",
       "#sk-container-id-2 label.sk-toggleable__label .caption {\n",
       "  font-size: 0.6rem;\n",
       "  font-weight: lighter;\n",
       "  color: var(--sklearn-color-text-muted);\n",
       "}\n",
       "\n",
       "#sk-container-id-2 label.sk-toggleable__label-arrow:before {\n",
       "  /* Arrow on the left of the label */\n",
       "  content: \"▸\";\n",
       "  float: left;\n",
       "  margin-right: 0.25em;\n",
       "  color: var(--sklearn-color-icon);\n",
       "}\n",
       "\n",
       "#sk-container-id-2 label.sk-toggleable__label-arrow:hover:before {\n",
       "  color: var(--sklearn-color-text);\n",
       "}\n",
       "\n",
       "/* Toggleable content - dropdown */\n",
       "\n",
       "#sk-container-id-2 div.sk-toggleable__content {\n",
       "  max-height: 0;\n",
       "  max-width: 0;\n",
       "  overflow: hidden;\n",
       "  text-align: left;\n",
       "  /* unfitted */\n",
       "  background-color: var(--sklearn-color-unfitted-level-0);\n",
       "}\n",
       "\n",
       "#sk-container-id-2 div.sk-toggleable__content.fitted {\n",
       "  /* fitted */\n",
       "  background-color: var(--sklearn-color-fitted-level-0);\n",
       "}\n",
       "\n",
       "#sk-container-id-2 div.sk-toggleable__content pre {\n",
       "  margin: 0.2em;\n",
       "  border-radius: 0.25em;\n",
       "  color: var(--sklearn-color-text);\n",
       "  /* unfitted */\n",
       "  background-color: var(--sklearn-color-unfitted-level-0);\n",
       "}\n",
       "\n",
       "#sk-container-id-2 div.sk-toggleable__content.fitted pre {\n",
       "  /* unfitted */\n",
       "  background-color: var(--sklearn-color-fitted-level-0);\n",
       "}\n",
       "\n",
       "#sk-container-id-2 input.sk-toggleable__control:checked~div.sk-toggleable__content {\n",
       "  /* Expand drop-down */\n",
       "  max-height: 200px;\n",
       "  max-width: 100%;\n",
       "  overflow: auto;\n",
       "}\n",
       "\n",
       "#sk-container-id-2 input.sk-toggleable__control:checked~label.sk-toggleable__label-arrow:before {\n",
       "  content: \"▾\";\n",
       "}\n",
       "\n",
       "/* Pipeline/ColumnTransformer-specific style */\n",
       "\n",
       "#sk-container-id-2 div.sk-label input.sk-toggleable__control:checked~label.sk-toggleable__label {\n",
       "  color: var(--sklearn-color-text);\n",
       "  background-color: var(--sklearn-color-unfitted-level-2);\n",
       "}\n",
       "\n",
       "#sk-container-id-2 div.sk-label.fitted input.sk-toggleable__control:checked~label.sk-toggleable__label {\n",
       "  background-color: var(--sklearn-color-fitted-level-2);\n",
       "}\n",
       "\n",
       "/* Estimator-specific style */\n",
       "\n",
       "/* Colorize estimator box */\n",
       "#sk-container-id-2 div.sk-estimator input.sk-toggleable__control:checked~label.sk-toggleable__label {\n",
       "  /* unfitted */\n",
       "  background-color: var(--sklearn-color-unfitted-level-2);\n",
       "}\n",
       "\n",
       "#sk-container-id-2 div.sk-estimator.fitted input.sk-toggleable__control:checked~label.sk-toggleable__label {\n",
       "  /* fitted */\n",
       "  background-color: var(--sklearn-color-fitted-level-2);\n",
       "}\n",
       "\n",
       "#sk-container-id-2 div.sk-label label.sk-toggleable__label,\n",
       "#sk-container-id-2 div.sk-label label {\n",
       "  /* The background is the default theme color */\n",
       "  color: var(--sklearn-color-text-on-default-background);\n",
       "}\n",
       "\n",
       "/* On hover, darken the color of the background */\n",
       "#sk-container-id-2 div.sk-label:hover label.sk-toggleable__label {\n",
       "  color: var(--sklearn-color-text);\n",
       "  background-color: var(--sklearn-color-unfitted-level-2);\n",
       "}\n",
       "\n",
       "/* Label box, darken color on hover, fitted */\n",
       "#sk-container-id-2 div.sk-label.fitted:hover label.sk-toggleable__label.fitted {\n",
       "  color: var(--sklearn-color-text);\n",
       "  background-color: var(--sklearn-color-fitted-level-2);\n",
       "}\n",
       "\n",
       "/* Estimator label */\n",
       "\n",
       "#sk-container-id-2 div.sk-label label {\n",
       "  font-family: monospace;\n",
       "  font-weight: bold;\n",
       "  display: inline-block;\n",
       "  line-height: 1.2em;\n",
       "}\n",
       "\n",
       "#sk-container-id-2 div.sk-label-container {\n",
       "  text-align: center;\n",
       "}\n",
       "\n",
       "/* Estimator-specific */\n",
       "#sk-container-id-2 div.sk-estimator {\n",
       "  font-family: monospace;\n",
       "  border: 1px dotted var(--sklearn-color-border-box);\n",
       "  border-radius: 0.25em;\n",
       "  box-sizing: border-box;\n",
       "  margin-bottom: 0.5em;\n",
       "  /* unfitted */\n",
       "  background-color: var(--sklearn-color-unfitted-level-0);\n",
       "}\n",
       "\n",
       "#sk-container-id-2 div.sk-estimator.fitted {\n",
       "  /* fitted */\n",
       "  background-color: var(--sklearn-color-fitted-level-0);\n",
       "}\n",
       "\n",
       "/* on hover */\n",
       "#sk-container-id-2 div.sk-estimator:hover {\n",
       "  /* unfitted */\n",
       "  background-color: var(--sklearn-color-unfitted-level-2);\n",
       "}\n",
       "\n",
       "#sk-container-id-2 div.sk-estimator.fitted:hover {\n",
       "  /* fitted */\n",
       "  background-color: var(--sklearn-color-fitted-level-2);\n",
       "}\n",
       "\n",
       "/* Specification for estimator info (e.g. \"i\" and \"?\") */\n",
       "\n",
       "/* Common style for \"i\" and \"?\" */\n",
       "\n",
       ".sk-estimator-doc-link,\n",
       "a:link.sk-estimator-doc-link,\n",
       "a:visited.sk-estimator-doc-link {\n",
       "  float: right;\n",
       "  font-size: smaller;\n",
       "  line-height: 1em;\n",
       "  font-family: monospace;\n",
       "  background-color: var(--sklearn-color-background);\n",
       "  border-radius: 1em;\n",
       "  height: 1em;\n",
       "  width: 1em;\n",
       "  text-decoration: none !important;\n",
       "  margin-left: 0.5em;\n",
       "  text-align: center;\n",
       "  /* unfitted */\n",
       "  border: var(--sklearn-color-unfitted-level-1) 1pt solid;\n",
       "  color: var(--sklearn-color-unfitted-level-1);\n",
       "}\n",
       "\n",
       ".sk-estimator-doc-link.fitted,\n",
       "a:link.sk-estimator-doc-link.fitted,\n",
       "a:visited.sk-estimator-doc-link.fitted {\n",
       "  /* fitted */\n",
       "  border: var(--sklearn-color-fitted-level-1) 1pt solid;\n",
       "  color: var(--sklearn-color-fitted-level-1);\n",
       "}\n",
       "\n",
       "/* On hover */\n",
       "div.sk-estimator:hover .sk-estimator-doc-link:hover,\n",
       ".sk-estimator-doc-link:hover,\n",
       "div.sk-label-container:hover .sk-estimator-doc-link:hover,\n",
       ".sk-estimator-doc-link:hover {\n",
       "  /* unfitted */\n",
       "  background-color: var(--sklearn-color-unfitted-level-3);\n",
       "  color: var(--sklearn-color-background);\n",
       "  text-decoration: none;\n",
       "}\n",
       "\n",
       "div.sk-estimator.fitted:hover .sk-estimator-doc-link.fitted:hover,\n",
       ".sk-estimator-doc-link.fitted:hover,\n",
       "div.sk-label-container:hover .sk-estimator-doc-link.fitted:hover,\n",
       ".sk-estimator-doc-link.fitted:hover {\n",
       "  /* fitted */\n",
       "  background-color: var(--sklearn-color-fitted-level-3);\n",
       "  color: var(--sklearn-color-background);\n",
       "  text-decoration: none;\n",
       "}\n",
       "\n",
       "/* Span, style for the box shown on hovering the info icon */\n",
       ".sk-estimator-doc-link span {\n",
       "  display: none;\n",
       "  z-index: 9999;\n",
       "  position: relative;\n",
       "  font-weight: normal;\n",
       "  right: .2ex;\n",
       "  padding: .5ex;\n",
       "  margin: .5ex;\n",
       "  width: min-content;\n",
       "  min-width: 20ex;\n",
       "  max-width: 50ex;\n",
       "  color: var(--sklearn-color-text);\n",
       "  box-shadow: 2pt 2pt 4pt #999;\n",
       "  /* unfitted */\n",
       "  background: var(--sklearn-color-unfitted-level-0);\n",
       "  border: .5pt solid var(--sklearn-color-unfitted-level-3);\n",
       "}\n",
       "\n",
       ".sk-estimator-doc-link.fitted span {\n",
       "  /* fitted */\n",
       "  background: var(--sklearn-color-fitted-level-0);\n",
       "  border: var(--sklearn-color-fitted-level-3);\n",
       "}\n",
       "\n",
       ".sk-estimator-doc-link:hover span {\n",
       "  display: block;\n",
       "}\n",
       "\n",
       "/* \"?\"-specific style due to the `<a>` HTML tag */\n",
       "\n",
       "#sk-container-id-2 a.estimator_doc_link {\n",
       "  float: right;\n",
       "  font-size: 1rem;\n",
       "  line-height: 1em;\n",
       "  font-family: monospace;\n",
       "  background-color: var(--sklearn-color-background);\n",
       "  border-radius: 1rem;\n",
       "  height: 1rem;\n",
       "  width: 1rem;\n",
       "  text-decoration: none;\n",
       "  /* unfitted */\n",
       "  color: var(--sklearn-color-unfitted-level-1);\n",
       "  border: var(--sklearn-color-unfitted-level-1) 1pt solid;\n",
       "}\n",
       "\n",
       "#sk-container-id-2 a.estimator_doc_link.fitted {\n",
       "  /* fitted */\n",
       "  border: var(--sklearn-color-fitted-level-1) 1pt solid;\n",
       "  color: var(--sklearn-color-fitted-level-1);\n",
       "}\n",
       "\n",
       "/* On hover */\n",
       "#sk-container-id-2 a.estimator_doc_link:hover {\n",
       "  /* unfitted */\n",
       "  background-color: var(--sklearn-color-unfitted-level-3);\n",
       "  color: var(--sklearn-color-background);\n",
       "  text-decoration: none;\n",
       "}\n",
       "\n",
       "#sk-container-id-2 a.estimator_doc_link.fitted:hover {\n",
       "  /* fitted */\n",
       "  background-color: var(--sklearn-color-fitted-level-3);\n",
       "}\n",
       "</style><div id=\"sk-container-id-2\" class=\"sk-top-container\"><div class=\"sk-text-repr-fallback\"><pre>LinearRegression()</pre><b>In a Jupyter environment, please rerun this cell to show the HTML representation or trust the notebook. <br />On GitHub, the HTML representation is unable to render, please try loading this page with nbviewer.org.</b></div><div class=\"sk-container\" hidden><div class=\"sk-item\"><div class=\"sk-estimator fitted sk-toggleable\"><input class=\"sk-toggleable__control sk-hidden--visually\" id=\"sk-estimator-id-2\" type=\"checkbox\" checked><label for=\"sk-estimator-id-2\" class=\"sk-toggleable__label fitted sk-toggleable__label-arrow\"><div><div>LinearRegression</div></div><div><a class=\"sk-estimator-doc-link fitted\" rel=\"noreferrer\" target=\"_blank\" href=\"https://scikit-learn.org/1.6/modules/generated/sklearn.linear_model.LinearRegression.html\">?<span>Documentation for LinearRegression</span></a><span class=\"sk-estimator-doc-link fitted\">i<span>Fitted</span></span></div></label><div class=\"sk-toggleable__content fitted\"><pre>LinearRegression()</pre></div> </div></div></div></div>"
      ]
     },
     "execution_count": 32,
     "metadata": {},
     "output_type": "execute_result"
    }
   ],
   "execution_count": 32
  },
  {
   "metadata": {
    "ExecuteTime": {
     "end_time": "2025-03-16T09:19:51.706543Z",
     "start_time": "2025-03-16T09:19:51.701774Z"
    }
   },
   "cell_type": "code",
   "source": "model2.coef_",
   "id": "7a2f5ea3c52acb60",
   "outputs": [
    {
     "data": {
      "text/plain": [
       "array([[ 0.32281134,  3.07383714, -0.44500618, -1.9863877 , -4.16123877]])"
      ]
     },
     "execution_count": 33,
     "metadata": {},
     "output_type": "execute_result"
    }
   ],
   "execution_count": 33
  },
  {
   "metadata": {
    "ExecuteTime": {
     "end_time": "2025-03-16T09:19:52.466693Z",
     "start_time": "2025-03-16T09:19:52.462661Z"
    }
   },
   "cell_type": "code",
   "source": "model2.intercept_",
   "id": "b3f246f49324026a",
   "outputs": [
    {
     "data": {
      "text/plain": [
       "array([22.62824151])"
      ]
     },
     "execution_count": 34,
     "metadata": {},
     "output_type": "execute_result"
    }
   ],
   "execution_count": 34
  },
  {
   "metadata": {},
   "cell_type": "markdown",
   "source": "***梯度下降***",
   "id": "31f8dc6920154588"
  },
  {
   "metadata": {
    "ExecuteTime": {
     "end_time": "2025-03-16T09:19:53.682616Z",
     "start_time": "2025-03-16T09:19:53.610659Z"
    }
   },
   "cell_type": "code",
   "source": [
    "theta_add = np.zeros((6, 1))\n",
    "X_train2_bias = np.c_[np.ones((m1, 1)), X_train2]\n",
    "\n",
    "for _ in range(n_iterations):\n",
    "    gradient = (1/m1) * X_train2_bias.T @ (X_train2_bias @ theta_add - y_train2)\n",
    "    theta_add -= alpha * gradient\n",
    "theta_add"
   ],
   "id": "738cd3fc87fe7ffe",
   "outputs": [
    {
     "data": {
      "text/plain": [
       "array([[22.62824151],\n",
       "       [ 0.32281134],\n",
       "       [ 3.07383714],\n",
       "       [-0.44500618],\n",
       "       [-1.9863877 ],\n",
       "       [-4.16123877]])"
      ]
     },
     "execution_count": 35,
     "metadata": {},
     "output_type": "execute_result"
    }
   ],
   "execution_count": 35
  },
  {
   "metadata": {},
   "cell_type": "markdown",
   "source": "*函数与梯度下降仍然基本一致*",
   "id": "35821b7d32521c52"
  },
  {
   "metadata": {},
   "cell_type": "markdown",
   "source": "***模型评估***",
   "id": "b38af3d89f05daa"
  },
  {
   "metadata": {
    "ExecuteTime": {
     "end_time": "2025-03-16T09:19:55.754957Z",
     "start_time": "2025-03-16T09:19:55.750096Z"
    }
   },
   "cell_type": "code",
   "source": [
    "y_predict1_add = model2.predict(X_test2)\n",
    "y_predict2_add = np.c_[np.ones((m2, 1)), X_test2] @ theta_add"
   ],
   "id": "32e8bd53ecc5572",
   "outputs": [],
   "execution_count": 36
  },
  {
   "metadata": {
    "ExecuteTime": {
     "end_time": "2025-03-16T09:19:56.673367Z",
     "start_time": "2025-03-16T09:19:56.667628Z"
    }
   },
   "cell_type": "code",
   "source": "np.sqrt(mean_squared_error(y_test2, y_predict1_add))",
   "id": "c31e23ad18bb95e4",
   "outputs": [
    {
     "data": {
      "text/plain": [
       "np.float64(4.590826961735109)"
      ]
     },
     "execution_count": 37,
     "metadata": {},
     "output_type": "execute_result"
    }
   ],
   "execution_count": 37
  },
  {
   "metadata": {
    "ExecuteTime": {
     "end_time": "2025-03-16T09:19:57.351020Z",
     "start_time": "2025-03-16T09:19:57.345476Z"
    }
   },
   "cell_type": "code",
   "source": "np.sqrt(mean_squared_error(y_test2, y_predict2_add))",
   "id": "2ec3301daa819070",
   "outputs": [
    {
     "data": {
      "text/plain": [
       "np.float64(4.5908269617351465)"
      ]
     },
     "execution_count": 38,
     "metadata": {},
     "output_type": "execute_result"
    }
   ],
   "execution_count": 38
  },
  {
   "metadata": {
    "ExecuteTime": {
     "end_time": "2025-03-16T09:19:57.816832Z",
     "start_time": "2025-03-16T09:19:57.811828Z"
    }
   },
   "cell_type": "code",
   "source": "4.59 / (target.max() - target.min())",
   "id": "c84922acb54f8528",
   "outputs": [
    {
     "data": {
      "text/plain": [
       "np.float64(0.102)"
      ]
     },
     "execution_count": 39,
     "metadata": {},
     "output_type": "execute_result"
    }
   ],
   "execution_count": 39
  },
  {
   "metadata": {},
   "cell_type": "markdown",
   "source": "*大约 10% 的房价误差，相较于未增加特征项时降低极少*",
   "id": "42202aa55bfc2761"
  },
  {
   "metadata": {
    "ExecuteTime": {
     "end_time": "2025-03-16T09:19:58.971590Z",
     "start_time": "2025-03-16T09:19:58.966876Z"
    }
   },
   "cell_type": "code",
   "source": "r2_score(y_test2, y_predict1_add)",
   "id": "398b314590af8f10",
   "outputs": [
    {
     "data": {
      "text/plain": [
       "0.7099724374890547"
      ]
     },
     "execution_count": 40,
     "metadata": {},
     "output_type": "execute_result"
    }
   ],
   "execution_count": 40
  },
  {
   "metadata": {
    "ExecuteTime": {
     "end_time": "2025-03-16T09:19:59.456777Z",
     "start_time": "2025-03-16T09:19:59.451729Z"
    }
   },
   "cell_type": "code",
   "source": "r2_score(y_test2, y_predict2_add)",
   "id": "b2b96017615d2",
   "outputs": [
    {
     "data": {
      "text/plain": [
       "0.70997243748905"
      ]
     },
     "execution_count": 41,
     "metadata": {},
     "output_type": "execute_result"
    }
   ],
   "execution_count": 41
  },
  {
   "metadata": {},
   "cell_type": "markdown",
   "source": "*能解释 71% 的房价变化，相较于未增加特征项时只增加了 0.5%*",
   "id": "b0d0c998bc43bc6d"
  },
  {
   "metadata": {},
   "cell_type": "markdown",
   "source": "### 8.3 尝试非线性关系",
   "id": "48cc0b8fc6d3c192"
  },
  {
   "metadata": {},
   "cell_type": "markdown",
   "source": "***多项式回归***",
   "id": "1d1c000c0bf4fbf3"
  },
  {
   "metadata": {},
   "cell_type": "markdown",
   "source": "*重新构建数据*",
   "id": "a9c56f515446d1e0"
  },
  {
   "metadata": {
    "ExecuteTime": {
     "end_time": "2025-03-16T09:20:04.283707Z",
     "start_time": "2025-03-16T09:20:04.279726Z"
    }
   },
   "cell_type": "code",
   "source": "X_train3, X_test3, y_train3, y_test3 = train_test_split(high_corr_data2, target, test_size=0.2, random_state=15)",
   "id": "20c393fd5c6bc869",
   "outputs": [],
   "execution_count": 42
  },
  {
   "metadata": {
    "ExecuteTime": {
     "end_time": "2025-03-16T09:20:06.771858Z",
     "start_time": "2025-03-16T09:20:06.152834Z"
    }
   },
   "cell_type": "code",
   "source": [
    "from sklearn.pipeline import Pipeline\n",
    "from sklearn.preprocessing import PolynomialFeatures\n",
    "pipeline = Pipeline([\n",
    "    # 当include_bias=True 时可用在梯度下降中，自动增加一列全为 1 项\n",
    "    ('PolynomialFeatures', PolynomialFeatures(degree=3, include_bias=False)), \n",
    "    ('StandardScaler', StandardScaler()), \n",
    "    ('LinearRegression', LinearRegression())\n",
    "])\n",
    "pipeline.fit(X_train3, y_train3)"
   ],
   "id": "e44eef8e8e04b562",
   "outputs": [
    {
     "data": {
      "text/plain": [
       "Pipeline(steps=[('PolynomialFeatures',\n",
       "                 PolynomialFeatures(degree=3, include_bias=False)),\n",
       "                ('StandardScaler', StandardScaler()),\n",
       "                ('LinearRegression', LinearRegression())])"
      ],
      "text/html": [
       "<style>#sk-container-id-3 {\n",
       "  /* Definition of color scheme common for light and dark mode */\n",
       "  --sklearn-color-text: #000;\n",
       "  --sklearn-color-text-muted: #666;\n",
       "  --sklearn-color-line: gray;\n",
       "  /* Definition of color scheme for unfitted estimators */\n",
       "  --sklearn-color-unfitted-level-0: #fff5e6;\n",
       "  --sklearn-color-unfitted-level-1: #f6e4d2;\n",
       "  --sklearn-color-unfitted-level-2: #ffe0b3;\n",
       "  --sklearn-color-unfitted-level-3: chocolate;\n",
       "  /* Definition of color scheme for fitted estimators */\n",
       "  --sklearn-color-fitted-level-0: #f0f8ff;\n",
       "  --sklearn-color-fitted-level-1: #d4ebff;\n",
       "  --sklearn-color-fitted-level-2: #b3dbfd;\n",
       "  --sklearn-color-fitted-level-3: cornflowerblue;\n",
       "\n",
       "  /* Specific color for light theme */\n",
       "  --sklearn-color-text-on-default-background: var(--sg-text-color, var(--theme-code-foreground, var(--jp-content-font-color1, black)));\n",
       "  --sklearn-color-background: var(--sg-background-color, var(--theme-background, var(--jp-layout-color0, white)));\n",
       "  --sklearn-color-border-box: var(--sg-text-color, var(--theme-code-foreground, var(--jp-content-font-color1, black)));\n",
       "  --sklearn-color-icon: #696969;\n",
       "\n",
       "  @media (prefers-color-scheme: dark) {\n",
       "    /* Redefinition of color scheme for dark theme */\n",
       "    --sklearn-color-text-on-default-background: var(--sg-text-color, var(--theme-code-foreground, var(--jp-content-font-color1, white)));\n",
       "    --sklearn-color-background: var(--sg-background-color, var(--theme-background, var(--jp-layout-color0, #111)));\n",
       "    --sklearn-color-border-box: var(--sg-text-color, var(--theme-code-foreground, var(--jp-content-font-color1, white)));\n",
       "    --sklearn-color-icon: #878787;\n",
       "  }\n",
       "}\n",
       "\n",
       "#sk-container-id-3 {\n",
       "  color: var(--sklearn-color-text);\n",
       "}\n",
       "\n",
       "#sk-container-id-3 pre {\n",
       "  padding: 0;\n",
       "}\n",
       "\n",
       "#sk-container-id-3 input.sk-hidden--visually {\n",
       "  border: 0;\n",
       "  clip: rect(1px 1px 1px 1px);\n",
       "  clip: rect(1px, 1px, 1px, 1px);\n",
       "  height: 1px;\n",
       "  margin: -1px;\n",
       "  overflow: hidden;\n",
       "  padding: 0;\n",
       "  position: absolute;\n",
       "  width: 1px;\n",
       "}\n",
       "\n",
       "#sk-container-id-3 div.sk-dashed-wrapped {\n",
       "  border: 1px dashed var(--sklearn-color-line);\n",
       "  margin: 0 0.4em 0.5em 0.4em;\n",
       "  box-sizing: border-box;\n",
       "  padding-bottom: 0.4em;\n",
       "  background-color: var(--sklearn-color-background);\n",
       "}\n",
       "\n",
       "#sk-container-id-3 div.sk-container {\n",
       "  /* jupyter's `normalize.less` sets `[hidden] { display: none; }`\n",
       "     but bootstrap.min.css set `[hidden] { display: none !important; }`\n",
       "     so we also need the `!important` here to be able to override the\n",
       "     default hidden behavior on the sphinx rendered scikit-learn.org.\n",
       "     See: https://github.com/scikit-learn/scikit-learn/issues/21755 */\n",
       "  display: inline-block !important;\n",
       "  position: relative;\n",
       "}\n",
       "\n",
       "#sk-container-id-3 div.sk-text-repr-fallback {\n",
       "  display: none;\n",
       "}\n",
       "\n",
       "div.sk-parallel-item,\n",
       "div.sk-serial,\n",
       "div.sk-item {\n",
       "  /* draw centered vertical line to link estimators */\n",
       "  background-image: linear-gradient(var(--sklearn-color-text-on-default-background), var(--sklearn-color-text-on-default-background));\n",
       "  background-size: 2px 100%;\n",
       "  background-repeat: no-repeat;\n",
       "  background-position: center center;\n",
       "}\n",
       "\n",
       "/* Parallel-specific style estimator block */\n",
       "\n",
       "#sk-container-id-3 div.sk-parallel-item::after {\n",
       "  content: \"\";\n",
       "  width: 100%;\n",
       "  border-bottom: 2px solid var(--sklearn-color-text-on-default-background);\n",
       "  flex-grow: 1;\n",
       "}\n",
       "\n",
       "#sk-container-id-3 div.sk-parallel {\n",
       "  display: flex;\n",
       "  align-items: stretch;\n",
       "  justify-content: center;\n",
       "  background-color: var(--sklearn-color-background);\n",
       "  position: relative;\n",
       "}\n",
       "\n",
       "#sk-container-id-3 div.sk-parallel-item {\n",
       "  display: flex;\n",
       "  flex-direction: column;\n",
       "}\n",
       "\n",
       "#sk-container-id-3 div.sk-parallel-item:first-child::after {\n",
       "  align-self: flex-end;\n",
       "  width: 50%;\n",
       "}\n",
       "\n",
       "#sk-container-id-3 div.sk-parallel-item:last-child::after {\n",
       "  align-self: flex-start;\n",
       "  width: 50%;\n",
       "}\n",
       "\n",
       "#sk-container-id-3 div.sk-parallel-item:only-child::after {\n",
       "  width: 0;\n",
       "}\n",
       "\n",
       "/* Serial-specific style estimator block */\n",
       "\n",
       "#sk-container-id-3 div.sk-serial {\n",
       "  display: flex;\n",
       "  flex-direction: column;\n",
       "  align-items: center;\n",
       "  background-color: var(--sklearn-color-background);\n",
       "  padding-right: 1em;\n",
       "  padding-left: 1em;\n",
       "}\n",
       "\n",
       "\n",
       "/* Toggleable style: style used for estimator/Pipeline/ColumnTransformer box that is\n",
       "clickable and can be expanded/collapsed.\n",
       "- Pipeline and ColumnTransformer use this feature and define the default style\n",
       "- Estimators will overwrite some part of the style using the `sk-estimator` class\n",
       "*/\n",
       "\n",
       "/* Pipeline and ColumnTransformer style (default) */\n",
       "\n",
       "#sk-container-id-3 div.sk-toggleable {\n",
       "  /* Default theme specific background. It is overwritten whether we have a\n",
       "  specific estimator or a Pipeline/ColumnTransformer */\n",
       "  background-color: var(--sklearn-color-background);\n",
       "}\n",
       "\n",
       "/* Toggleable label */\n",
       "#sk-container-id-3 label.sk-toggleable__label {\n",
       "  cursor: pointer;\n",
       "  display: flex;\n",
       "  width: 100%;\n",
       "  margin-bottom: 0;\n",
       "  padding: 0.5em;\n",
       "  box-sizing: border-box;\n",
       "  text-align: center;\n",
       "  align-items: start;\n",
       "  justify-content: space-between;\n",
       "  gap: 0.5em;\n",
       "}\n",
       "\n",
       "#sk-container-id-3 label.sk-toggleable__label .caption {\n",
       "  font-size: 0.6rem;\n",
       "  font-weight: lighter;\n",
       "  color: var(--sklearn-color-text-muted);\n",
       "}\n",
       "\n",
       "#sk-container-id-3 label.sk-toggleable__label-arrow:before {\n",
       "  /* Arrow on the left of the label */\n",
       "  content: \"▸\";\n",
       "  float: left;\n",
       "  margin-right: 0.25em;\n",
       "  color: var(--sklearn-color-icon);\n",
       "}\n",
       "\n",
       "#sk-container-id-3 label.sk-toggleable__label-arrow:hover:before {\n",
       "  color: var(--sklearn-color-text);\n",
       "}\n",
       "\n",
       "/* Toggleable content - dropdown */\n",
       "\n",
       "#sk-container-id-3 div.sk-toggleable__content {\n",
       "  max-height: 0;\n",
       "  max-width: 0;\n",
       "  overflow: hidden;\n",
       "  text-align: left;\n",
       "  /* unfitted */\n",
       "  background-color: var(--sklearn-color-unfitted-level-0);\n",
       "}\n",
       "\n",
       "#sk-container-id-3 div.sk-toggleable__content.fitted {\n",
       "  /* fitted */\n",
       "  background-color: var(--sklearn-color-fitted-level-0);\n",
       "}\n",
       "\n",
       "#sk-container-id-3 div.sk-toggleable__content pre {\n",
       "  margin: 0.2em;\n",
       "  border-radius: 0.25em;\n",
       "  color: var(--sklearn-color-text);\n",
       "  /* unfitted */\n",
       "  background-color: var(--sklearn-color-unfitted-level-0);\n",
       "}\n",
       "\n",
       "#sk-container-id-3 div.sk-toggleable__content.fitted pre {\n",
       "  /* unfitted */\n",
       "  background-color: var(--sklearn-color-fitted-level-0);\n",
       "}\n",
       "\n",
       "#sk-container-id-3 input.sk-toggleable__control:checked~div.sk-toggleable__content {\n",
       "  /* Expand drop-down */\n",
       "  max-height: 200px;\n",
       "  max-width: 100%;\n",
       "  overflow: auto;\n",
       "}\n",
       "\n",
       "#sk-container-id-3 input.sk-toggleable__control:checked~label.sk-toggleable__label-arrow:before {\n",
       "  content: \"▾\";\n",
       "}\n",
       "\n",
       "/* Pipeline/ColumnTransformer-specific style */\n",
       "\n",
       "#sk-container-id-3 div.sk-label input.sk-toggleable__control:checked~label.sk-toggleable__label {\n",
       "  color: var(--sklearn-color-text);\n",
       "  background-color: var(--sklearn-color-unfitted-level-2);\n",
       "}\n",
       "\n",
       "#sk-container-id-3 div.sk-label.fitted input.sk-toggleable__control:checked~label.sk-toggleable__label {\n",
       "  background-color: var(--sklearn-color-fitted-level-2);\n",
       "}\n",
       "\n",
       "/* Estimator-specific style */\n",
       "\n",
       "/* Colorize estimator box */\n",
       "#sk-container-id-3 div.sk-estimator input.sk-toggleable__control:checked~label.sk-toggleable__label {\n",
       "  /* unfitted */\n",
       "  background-color: var(--sklearn-color-unfitted-level-2);\n",
       "}\n",
       "\n",
       "#sk-container-id-3 div.sk-estimator.fitted input.sk-toggleable__control:checked~label.sk-toggleable__label {\n",
       "  /* fitted */\n",
       "  background-color: var(--sklearn-color-fitted-level-2);\n",
       "}\n",
       "\n",
       "#sk-container-id-3 div.sk-label label.sk-toggleable__label,\n",
       "#sk-container-id-3 div.sk-label label {\n",
       "  /* The background is the default theme color */\n",
       "  color: var(--sklearn-color-text-on-default-background);\n",
       "}\n",
       "\n",
       "/* On hover, darken the color of the background */\n",
       "#sk-container-id-3 div.sk-label:hover label.sk-toggleable__label {\n",
       "  color: var(--sklearn-color-text);\n",
       "  background-color: var(--sklearn-color-unfitted-level-2);\n",
       "}\n",
       "\n",
       "/* Label box, darken color on hover, fitted */\n",
       "#sk-container-id-3 div.sk-label.fitted:hover label.sk-toggleable__label.fitted {\n",
       "  color: var(--sklearn-color-text);\n",
       "  background-color: var(--sklearn-color-fitted-level-2);\n",
       "}\n",
       "\n",
       "/* Estimator label */\n",
       "\n",
       "#sk-container-id-3 div.sk-label label {\n",
       "  font-family: monospace;\n",
       "  font-weight: bold;\n",
       "  display: inline-block;\n",
       "  line-height: 1.2em;\n",
       "}\n",
       "\n",
       "#sk-container-id-3 div.sk-label-container {\n",
       "  text-align: center;\n",
       "}\n",
       "\n",
       "/* Estimator-specific */\n",
       "#sk-container-id-3 div.sk-estimator {\n",
       "  font-family: monospace;\n",
       "  border: 1px dotted var(--sklearn-color-border-box);\n",
       "  border-radius: 0.25em;\n",
       "  box-sizing: border-box;\n",
       "  margin-bottom: 0.5em;\n",
       "  /* unfitted */\n",
       "  background-color: var(--sklearn-color-unfitted-level-0);\n",
       "}\n",
       "\n",
       "#sk-container-id-3 div.sk-estimator.fitted {\n",
       "  /* fitted */\n",
       "  background-color: var(--sklearn-color-fitted-level-0);\n",
       "}\n",
       "\n",
       "/* on hover */\n",
       "#sk-container-id-3 div.sk-estimator:hover {\n",
       "  /* unfitted */\n",
       "  background-color: var(--sklearn-color-unfitted-level-2);\n",
       "}\n",
       "\n",
       "#sk-container-id-3 div.sk-estimator.fitted:hover {\n",
       "  /* fitted */\n",
       "  background-color: var(--sklearn-color-fitted-level-2);\n",
       "}\n",
       "\n",
       "/* Specification for estimator info (e.g. \"i\" and \"?\") */\n",
       "\n",
       "/* Common style for \"i\" and \"?\" */\n",
       "\n",
       ".sk-estimator-doc-link,\n",
       "a:link.sk-estimator-doc-link,\n",
       "a:visited.sk-estimator-doc-link {\n",
       "  float: right;\n",
       "  font-size: smaller;\n",
       "  line-height: 1em;\n",
       "  font-family: monospace;\n",
       "  background-color: var(--sklearn-color-background);\n",
       "  border-radius: 1em;\n",
       "  height: 1em;\n",
       "  width: 1em;\n",
       "  text-decoration: none !important;\n",
       "  margin-left: 0.5em;\n",
       "  text-align: center;\n",
       "  /* unfitted */\n",
       "  border: var(--sklearn-color-unfitted-level-1) 1pt solid;\n",
       "  color: var(--sklearn-color-unfitted-level-1);\n",
       "}\n",
       "\n",
       ".sk-estimator-doc-link.fitted,\n",
       "a:link.sk-estimator-doc-link.fitted,\n",
       "a:visited.sk-estimator-doc-link.fitted {\n",
       "  /* fitted */\n",
       "  border: var(--sklearn-color-fitted-level-1) 1pt solid;\n",
       "  color: var(--sklearn-color-fitted-level-1);\n",
       "}\n",
       "\n",
       "/* On hover */\n",
       "div.sk-estimator:hover .sk-estimator-doc-link:hover,\n",
       ".sk-estimator-doc-link:hover,\n",
       "div.sk-label-container:hover .sk-estimator-doc-link:hover,\n",
       ".sk-estimator-doc-link:hover {\n",
       "  /* unfitted */\n",
       "  background-color: var(--sklearn-color-unfitted-level-3);\n",
       "  color: var(--sklearn-color-background);\n",
       "  text-decoration: none;\n",
       "}\n",
       "\n",
       "div.sk-estimator.fitted:hover .sk-estimator-doc-link.fitted:hover,\n",
       ".sk-estimator-doc-link.fitted:hover,\n",
       "div.sk-label-container:hover .sk-estimator-doc-link.fitted:hover,\n",
       ".sk-estimator-doc-link.fitted:hover {\n",
       "  /* fitted */\n",
       "  background-color: var(--sklearn-color-fitted-level-3);\n",
       "  color: var(--sklearn-color-background);\n",
       "  text-decoration: none;\n",
       "}\n",
       "\n",
       "/* Span, style for the box shown on hovering the info icon */\n",
       ".sk-estimator-doc-link span {\n",
       "  display: none;\n",
       "  z-index: 9999;\n",
       "  position: relative;\n",
       "  font-weight: normal;\n",
       "  right: .2ex;\n",
       "  padding: .5ex;\n",
       "  margin: .5ex;\n",
       "  width: min-content;\n",
       "  min-width: 20ex;\n",
       "  max-width: 50ex;\n",
       "  color: var(--sklearn-color-text);\n",
       "  box-shadow: 2pt 2pt 4pt #999;\n",
       "  /* unfitted */\n",
       "  background: var(--sklearn-color-unfitted-level-0);\n",
       "  border: .5pt solid var(--sklearn-color-unfitted-level-3);\n",
       "}\n",
       "\n",
       ".sk-estimator-doc-link.fitted span {\n",
       "  /* fitted */\n",
       "  background: var(--sklearn-color-fitted-level-0);\n",
       "  border: var(--sklearn-color-fitted-level-3);\n",
       "}\n",
       "\n",
       ".sk-estimator-doc-link:hover span {\n",
       "  display: block;\n",
       "}\n",
       "\n",
       "/* \"?\"-specific style due to the `<a>` HTML tag */\n",
       "\n",
       "#sk-container-id-3 a.estimator_doc_link {\n",
       "  float: right;\n",
       "  font-size: 1rem;\n",
       "  line-height: 1em;\n",
       "  font-family: monospace;\n",
       "  background-color: var(--sklearn-color-background);\n",
       "  border-radius: 1rem;\n",
       "  height: 1rem;\n",
       "  width: 1rem;\n",
       "  text-decoration: none;\n",
       "  /* unfitted */\n",
       "  color: var(--sklearn-color-unfitted-level-1);\n",
       "  border: var(--sklearn-color-unfitted-level-1) 1pt solid;\n",
       "}\n",
       "\n",
       "#sk-container-id-3 a.estimator_doc_link.fitted {\n",
       "  /* fitted */\n",
       "  border: var(--sklearn-color-fitted-level-1) 1pt solid;\n",
       "  color: var(--sklearn-color-fitted-level-1);\n",
       "}\n",
       "\n",
       "/* On hover */\n",
       "#sk-container-id-3 a.estimator_doc_link:hover {\n",
       "  /* unfitted */\n",
       "  background-color: var(--sklearn-color-unfitted-level-3);\n",
       "  color: var(--sklearn-color-background);\n",
       "  text-decoration: none;\n",
       "}\n",
       "\n",
       "#sk-container-id-3 a.estimator_doc_link.fitted:hover {\n",
       "  /* fitted */\n",
       "  background-color: var(--sklearn-color-fitted-level-3);\n",
       "}\n",
       "</style><div id=\"sk-container-id-3\" class=\"sk-top-container\"><div class=\"sk-text-repr-fallback\"><pre>Pipeline(steps=[(&#x27;PolynomialFeatures&#x27;,\n",
       "                 PolynomialFeatures(degree=3, include_bias=False)),\n",
       "                (&#x27;StandardScaler&#x27;, StandardScaler()),\n",
       "                (&#x27;LinearRegression&#x27;, LinearRegression())])</pre><b>In a Jupyter environment, please rerun this cell to show the HTML representation or trust the notebook. <br />On GitHub, the HTML representation is unable to render, please try loading this page with nbviewer.org.</b></div><div class=\"sk-container\" hidden><div class=\"sk-item sk-dashed-wrapped\"><div class=\"sk-label-container\"><div class=\"sk-label fitted sk-toggleable\"><input class=\"sk-toggleable__control sk-hidden--visually\" id=\"sk-estimator-id-3\" type=\"checkbox\" ><label for=\"sk-estimator-id-3\" class=\"sk-toggleable__label fitted sk-toggleable__label-arrow\"><div><div>Pipeline</div></div><div><a class=\"sk-estimator-doc-link fitted\" rel=\"noreferrer\" target=\"_blank\" href=\"https://scikit-learn.org/1.6/modules/generated/sklearn.pipeline.Pipeline.html\">?<span>Documentation for Pipeline</span></a><span class=\"sk-estimator-doc-link fitted\">i<span>Fitted</span></span></div></label><div class=\"sk-toggleable__content fitted\"><pre>Pipeline(steps=[(&#x27;PolynomialFeatures&#x27;,\n",
       "                 PolynomialFeatures(degree=3, include_bias=False)),\n",
       "                (&#x27;StandardScaler&#x27;, StandardScaler()),\n",
       "                (&#x27;LinearRegression&#x27;, LinearRegression())])</pre></div> </div></div><div class=\"sk-serial\"><div class=\"sk-item\"><div class=\"sk-estimator fitted sk-toggleable\"><input class=\"sk-toggleable__control sk-hidden--visually\" id=\"sk-estimator-id-4\" type=\"checkbox\" ><label for=\"sk-estimator-id-4\" class=\"sk-toggleable__label fitted sk-toggleable__label-arrow\"><div><div>PolynomialFeatures</div></div><div><a class=\"sk-estimator-doc-link fitted\" rel=\"noreferrer\" target=\"_blank\" href=\"https://scikit-learn.org/1.6/modules/generated/sklearn.preprocessing.PolynomialFeatures.html\">?<span>Documentation for PolynomialFeatures</span></a></div></label><div class=\"sk-toggleable__content fitted\"><pre>PolynomialFeatures(degree=3, include_bias=False)</pre></div> </div></div><div class=\"sk-item\"><div class=\"sk-estimator fitted sk-toggleable\"><input class=\"sk-toggleable__control sk-hidden--visually\" id=\"sk-estimator-id-5\" type=\"checkbox\" ><label for=\"sk-estimator-id-5\" class=\"sk-toggleable__label fitted sk-toggleable__label-arrow\"><div><div>StandardScaler</div></div><div><a class=\"sk-estimator-doc-link fitted\" rel=\"noreferrer\" target=\"_blank\" href=\"https://scikit-learn.org/1.6/modules/generated/sklearn.preprocessing.StandardScaler.html\">?<span>Documentation for StandardScaler</span></a></div></label><div class=\"sk-toggleable__content fitted\"><pre>StandardScaler()</pre></div> </div></div><div class=\"sk-item\"><div class=\"sk-estimator fitted sk-toggleable\"><input class=\"sk-toggleable__control sk-hidden--visually\" id=\"sk-estimator-id-6\" type=\"checkbox\" ><label for=\"sk-estimator-id-6\" class=\"sk-toggleable__label fitted sk-toggleable__label-arrow\"><div><div>LinearRegression</div></div><div><a class=\"sk-estimator-doc-link fitted\" rel=\"noreferrer\" target=\"_blank\" href=\"https://scikit-learn.org/1.6/modules/generated/sklearn.linear_model.LinearRegression.html\">?<span>Documentation for LinearRegression</span></a></div></label><div class=\"sk-toggleable__content fitted\"><pre>LinearRegression()</pre></div> </div></div></div></div></div></div>"
      ]
     },
     "execution_count": 43,
     "metadata": {},
     "output_type": "execute_result"
    }
   ],
   "execution_count": 43
  },
  {
   "metadata": {
    "ExecuteTime": {
     "end_time": "2025-03-16T09:20:06.896684Z",
     "start_time": "2025-03-16T09:20:06.890682Z"
    }
   },
   "cell_type": "code",
   "source": [
    "y_predict3 = pipeline.predict(X_test3)\n",
    "np.sqrt(mean_squared_error(y_test3, y_predict3))"
   ],
   "id": "76aa3ca23abc1e1a",
   "outputs": [
    {
     "data": {
      "text/plain": [
       "np.float64(3.251317099856098)"
      ]
     },
     "execution_count": 44,
     "metadata": {},
     "output_type": "execute_result"
    }
   ],
   "execution_count": 44
  },
  {
   "metadata": {
    "ExecuteTime": {
     "end_time": "2025-03-16T09:20:08.505268Z",
     "start_time": "2025-03-16T09:20:08.500760Z"
    }
   },
   "cell_type": "code",
   "source": "3.25 / (target.max() - target.min())",
   "id": "545981fec54cce61",
   "outputs": [
    {
     "data": {
      "text/plain": [
       "np.float64(0.07222222222222222)"
      ]
     },
     "execution_count": 45,
     "metadata": {},
     "output_type": "execute_result"
    }
   ],
   "execution_count": 45
  },
  {
   "metadata": {},
   "cell_type": "markdown",
   "source": [
    "*房价误差大约为 7% ，相较于未增加特征项时降低了 3%*\n",
    "\n",
    "***相较于增加特征项后的线性降低了 2.5%***"
   ],
   "id": "4fd9b2fae967d402"
  },
  {
   "metadata": {
    "ExecuteTime": {
     "end_time": "2025-03-16T09:20:11.220405Z",
     "start_time": "2025-03-16T09:20:11.215342Z"
    }
   },
   "cell_type": "code",
   "source": "r2_score(y_test3, y_predict3)",
   "id": "dca40d977351a894",
   "outputs": [
    {
     "data": {
      "text/plain": [
       "0.8545291147106131"
      ]
     },
     "execution_count": 46,
     "metadata": {},
     "output_type": "execute_result"
    }
   ],
   "execution_count": 46
  },
  {
   "metadata": {},
   "cell_type": "markdown",
   "source": [
    "*能解释 85.5% 的房价变化，相较于未增加特征项时提升了 15%*\n",
    "\n",
    "***相较于增加特征项后的线性提升了 14.5%***"
   ],
   "id": "e6071896db5d71b3"
  },
  {
   "metadata": {},
   "cell_type": "markdown",
   "source": "***增加多项式特征提升了模型的复杂度，使其更贴合训练数据的结构，从而降低了RMSE并提高了R²***",
   "id": "2fa053fa6bff77b"
  },
  {
   "metadata": {},
   "cell_type": "markdown",
   "source": "### 8.4 分析误差来源",
   "id": "4af013c264aeeb4a"
  },
  {
   "metadata": {
    "ExecuteTime": {
     "end_time": "2025-03-16T09:20:15.293803Z",
     "start_time": "2025-03-16T09:20:15.015719Z"
    }
   },
   "cell_type": "code",
   "source": [
    "plt.figure(figsize=(14, 6))\n",
    "\n",
    "plt.subplot(121)\n",
    "residuals1 = y_test2 - y_predict1_add\n",
    "plt.plot(y_predict1_add, residuals1, 'b.')\n",
    "plt.axhline(y=0, color='r', linestyle='--')\n",
    "plt.xlabel('Predicted Values')\n",
    "plt.ylabel('Residuals')\n",
    "plt.title('Linear')\n",
    "plt.axis((-5, 50, -15, 15))\n",
    "\n",
    "plt.subplot(122)\n",
    "residuals2 = y_test3 - y_predict3\n",
    "plt.plot(y_predict3, residuals2, 'b.')\n",
    "plt.axhline(y=0, color='r', linestyle='--')\n",
    "plt.xlabel('Predicted Values')\n",
    "plt.title('Polynomial')\n",
    "plt.axis((-5, 50, -15, 15))"
   ],
   "id": "907ed39ec080a288",
   "outputs": [
    {
     "data": {
      "text/plain": [
       "(np.float64(-5.0), np.float64(50.0), np.float64(-15.0), np.float64(15.0))"
      ]
     },
     "execution_count": 47,
     "metadata": {},
     "output_type": "execute_result"
    },
    {
     "data": {
      "text/plain": [
       "<Figure size 1400x600 with 2 Axes>"
      ],
      "image/png": "[encoded data removed]"
     },
     "metadata": {},
     "output_type": "display_data"
    }
   ],
   "execution_count": 47
  },
  {
   "metadata": {},
   "cell_type": "markdown",
   "source": "*Linear 更发散，Polynomial 更收敛*",
   "id": "dd9a3e29f2c805e7"
  },
  {
   "metadata": {},
   "cell_type": "markdown",
   "source": "### 8.5 其他优化尝试",
   "id": "41ea0afd1997cae1"
  },
  {
   "metadata": {},
   "cell_type": "markdown",
   "source": "#### 将 LSTAT 转换为线性进行线性回归",
   "id": "950f8ef058d79967"
  },
  {
   "metadata": {},
   "cell_type": "markdown",
   "source": "*取数*",
   "id": "779599308aef9ea4"
  },
  {
   "metadata": {
    "ExecuteTime": {
     "end_time": "2025-03-16T09:20:18.698692Z",
     "start_time": "2025-03-16T09:20:18.693156Z"
    }
   },
   "cell_type": "code",
   "source": [
    "index = [i for i in range(len(names)) if names[i] in high_corr][:-1]\n",
    "high_corr_data3 = data_shuffle[:, index]\n",
    "high_corr_data3[:10]"
   ],
   "id": "f4b34a83a820fc26",
   "outputs": [
    {
     "data": {
      "text/plain": [
       "array([[ 6.59 , 16.1  ,  9.5  ],\n",
       "       [ 8.398, 13.   ,  5.91 ],\n",
       "       [ 5.572, 16.6  , 14.69 ],\n",
       "       [ 6.03 , 21.   ,  7.88 ],\n",
       "       [ 6.715, 17.8  , 10.16 ],\n",
       "       [ 4.906, 20.2  , 34.77 ],\n",
       "       [ 5.404, 18.6  , 23.98 ],\n",
       "       [ 5.155, 20.2  , 20.08 ],\n",
       "       [ 6.606, 16.6  ,  7.37 ],\n",
       "       [ 5.593, 19.1  , 12.5  ]])"
      ]
     },
     "execution_count": 48,
     "metadata": {},
     "output_type": "execute_result"
    }
   ],
   "execution_count": 48
  },
  {
   "metadata": {},
   "cell_type": "markdown",
   "source": "*将 LSTAT 转换为线性*",
   "id": "6a7c55ac6e78fd2"
  },
  {
   "metadata": {
    "ExecuteTime": {
     "end_time": "2025-03-16T09:20:20.030630Z",
     "start_time": "2025-03-16T09:20:20.025415Z"
    }
   },
   "cell_type": "code",
   "source": [
    "new = 1 / high_corr_data3[:, -1]\n",
    "high_corr_data_new = np.c_[high_corr_data3[:, :2], new]\n",
    "high_corr_data_new[:10]"
   ],
   "id": "ad40f580a209076e",
   "outputs": [
    {
     "data": {
      "text/plain": [
       "array([[ 6.59      , 16.1       ,  0.10526316],\n",
       "       [ 8.398     , 13.        ,  0.16920474],\n",
       "       [ 5.572     , 16.6       ,  0.06807352],\n",
       "       [ 6.03      , 21.        ,  0.12690355],\n",
       "       [ 6.715     , 17.8       ,  0.0984252 ],\n",
       "       [ 4.906     , 20.2       ,  0.02876043],\n",
       "       [ 5.404     , 18.6       ,  0.04170142],\n",
       "       [ 5.155     , 20.2       ,  0.0498008 ],\n",
       "       [ 6.606     , 16.6       ,  0.13568521],\n",
       "       [ 5.593     , 19.1       ,  0.08      ]])"
      ]
     },
     "execution_count": 49,
     "metadata": {},
     "output_type": "execute_result"
    }
   ],
   "execution_count": 49
  },
  {
   "metadata": {},
   "cell_type": "markdown",
   "source": "*标准化*",
   "id": "292d2d9bb34b8d6a"
  },
  {
   "metadata": {
    "ExecuteTime": {
     "end_time": "2025-03-16T09:20:21.137569Z",
     "start_time": "2025-03-16T09:20:21.132050Z"
    }
   },
   "cell_type": "code",
   "source": [
    "scaler3 = StandardScaler()\n",
    "high_corr_data_new_scaler = scaler3.fit_transform(high_corr_data_new)\n",
    "high_corr_data_new_scaler[:10]"
   ],
   "id": "3830caf026ddb345",
   "outputs": [
    {
     "data": {
      "text/plain": [
       "array([[ 0.43504177, -1.08911039, -0.09751683],\n",
       "       [ 3.01082466, -2.52243411,  0.73047619],\n",
       "       [-1.01526076, -0.85792914, -0.5790933 ],\n",
       "       [-0.36276709,  1.17646583,  0.18270922],\n",
       "       [ 0.6131241 , -0.30309415, -0.18606303],\n",
       "       [-1.96408344,  0.80657583, -1.08816685],\n",
       "       [-1.25460342,  0.06679585, -0.92059121],\n",
       "       [-1.60934343,  0.80657583, -0.81571065],\n",
       "       [ 0.45783631, -0.85792914,  0.29642475],\n",
       "       [-0.98534293,  0.29797709, -0.42465479]])"
      ]
     },
     "execution_count": 50,
     "metadata": {},
     "output_type": "execute_result"
    }
   ],
   "execution_count": 50
  },
  {
   "metadata": {},
   "cell_type": "markdown",
   "source": "*切分数据集*",
   "id": "136a2cbdfb78f61"
  },
  {
   "metadata": {
    "ExecuteTime": {
     "end_time": "2025-03-16T09:20:22.154173Z",
     "start_time": "2025-03-16T09:20:22.149509Z"
    }
   },
   "cell_type": "code",
   "source": "X_train_new, X_test_new, y_train_new, y_test_new = train_test_split(high_corr_data_new_scaler, target, test_size=0.2, random_state=15)",
   "id": "e6ffe15df409187c",
   "outputs": [],
   "execution_count": 51
  },
  {
   "metadata": {},
   "cell_type": "markdown",
   "source": "*直接使用函数*",
   "id": "3b6d191fade835d8"
  },
  {
   "metadata": {
    "ExecuteTime": {
     "end_time": "2025-03-16T09:20:23.134120Z",
     "start_time": "2025-03-16T09:20:23.127840Z"
    }
   },
   "cell_type": "code",
   "source": [
    "model3 = LinearRegression()\n",
    "model3.fit(X_train_new, y_train_new)"
   ],
   "id": "952d54a9d62f2b64",
   "outputs": [
    {
     "data": {
      "text/plain": [
       "LinearRegression()"
      ],
      "text/html": [
       "<style>#sk-container-id-4 {\n",
       "  /* Definition of color scheme common for light and dark mode */\n",
       "  --sklearn-color-text: #000;\n",
       "  --sklearn-color-text-muted: #666;\n",
       "  --sklearn-color-line: gray;\n",
       "  /* Definition of color scheme for unfitted estimators */\n",
       "  --sklearn-color-unfitted-level-0: #fff5e6;\n",
       "  --sklearn-color-unfitted-level-1: #f6e4d2;\n",
       "  --sklearn-color-unfitted-level-2: #ffe0b3;\n",
       "  --sklearn-color-unfitted-level-3: chocolate;\n",
       "  /* Definition of color scheme for fitted estimators */\n",
       "  --sklearn-color-fitted-level-0: #f0f8ff;\n",
       "  --sklearn-color-fitted-level-1: #d4ebff;\n",
       "  --sklearn-color-fitted-level-2: #b3dbfd;\n",
       "  --sklearn-color-fitted-level-3: cornflowerblue;\n",
       "\n",
       "  /* Specific color for light theme */\n",
       "  --sklearn-color-text-on-default-background: var(--sg-text-color, var(--theme-code-foreground, var(--jp-content-font-color1, black)));\n",
       "  --sklearn-color-background: var(--sg-background-color, var(--theme-background, var(--jp-layout-color0, white)));\n",
       "  --sklearn-color-border-box: var(--sg-text-color, var(--theme-code-foreground, var(--jp-content-font-color1, black)));\n",
       "  --sklearn-color-icon: #696969;\n",
       "\n",
       "  @media (prefers-color-scheme: dark) {\n",
       "    /* Redefinition of color scheme for dark theme */\n",
       "    --sklearn-color-text-on-default-background: var(--sg-text-color, var(--theme-code-foreground, var(--jp-content-font-color1, white)));\n",
       "    --sklearn-color-background: var(--sg-background-color, var(--theme-background, var(--jp-layout-color0, #111)));\n",
       "    --sklearn-color-border-box: var(--sg-text-color, var(--theme-code-foreground, var(--jp-content-font-color1, white)));\n",
       "    --sklearn-color-icon: #878787;\n",
       "  }\n",
       "}\n",
       "\n",
       "#sk-container-id-4 {\n",
       "  color: var(--sklearn-color-text);\n",
       "}\n",
       "\n",
       "#sk-container-id-4 pre {\n",
       "  padding: 0;\n",
       "}\n",
       "\n",
       "#sk-container-id-4 input.sk-hidden--visually {\n",
       "  border: 0;\n",
       "  clip: rect(1px 1px 1px 1px);\n",
       "  clip: rect(1px, 1px, 1px, 1px);\n",
       "  height: 1px;\n",
       "  margin: -1px;\n",
       "  overflow: hidden;\n",
       "  padding: 0;\n",
       "  position: absolute;\n",
       "  width: 1px;\n",
       "}\n",
       "\n",
       "#sk-container-id-4 div.sk-dashed-wrapped {\n",
       "  border: 1px dashed var(--sklearn-color-line);\n",
       "  margin: 0 0.4em 0.5em 0.4em;\n",
       "  box-sizing: border-box;\n",
       "  padding-bottom: 0.4em;\n",
       "  background-color: var(--sklearn-color-background);\n",
       "}\n",
       "\n",
       "#sk-container-id-4 div.sk-container {\n",
       "  /* jupyter's `normalize.less` sets `[hidden] { display: none; }`\n",
       "     but bootstrap.min.css set `[hidden] { display: none !important; }`\n",
       "     so we also need the `!important` here to be able to override the\n",
       "     default hidden behavior on the sphinx rendered scikit-learn.org.\n",
       "     See: https://github.com/scikit-learn/scikit-learn/issues/21755 */\n",
       "  display: inline-block !important;\n",
       "  position: relative;\n",
       "}\n",
       "\n",
       "#sk-container-id-4 div.sk-text-repr-fallback {\n",
       "  display: none;\n",
       "}\n",
       "\n",
       "div.sk-parallel-item,\n",
       "div.sk-serial,\n",
       "div.sk-item {\n",
       "  /* draw centered vertical line to link estimators */\n",
       "  background-image: linear-gradient(var(--sklearn-color-text-on-default-background), var(--sklearn-color-text-on-default-background));\n",
       "  background-size: 2px 100%;\n",
       "  background-repeat: no-repeat;\n",
       "  background-position: center center;\n",
       "}\n",
       "\n",
       "/* Parallel-specific style estimator block */\n",
       "\n",
       "#sk-container-id-4 div.sk-parallel-item::after {\n",
       "  content: \"\";\n",
       "  width: 100%;\n",
       "  border-bottom: 2px solid var(--sklearn-color-text-on-default-background);\n",
       "  flex-grow: 1;\n",
       "}\n",
       "\n",
       "#sk-container-id-4 div.sk-parallel {\n",
       "  display: flex;\n",
       "  align-items: stretch;\n",
       "  justify-content: center;\n",
       "  background-color: var(--sklearn-color-background);\n",
       "  position: relative;\n",
       "}\n",
       "\n",
       "#sk-container-id-4 div.sk-parallel-item {\n",
       "  display: flex;\n",
       "  flex-direction: column;\n",
       "}\n",
       "\n",
       "#sk-container-id-4 div.sk-parallel-item:first-child::after {\n",
       "  align-self: flex-end;\n",
       "  width: 50%;\n",
       "}\n",
       "\n",
       "#sk-container-id-4 div.sk-parallel-item:last-child::after {\n",
       "  align-self: flex-start;\n",
       "  width: 50%;\n",
       "}\n",
       "\n",
       "#sk-container-id-4 div.sk-parallel-item:only-child::after {\n",
       "  width: 0;\n",
       "}\n",
       "\n",
       "/* Serial-specific style estimator block */\n",
       "\n",
       "#sk-container-id-4 div.sk-serial {\n",
       "  display: flex;\n",
       "  flex-direction: column;\n",
       "  align-items: center;\n",
       "  background-color: var(--sklearn-color-background);\n",
       "  padding-right: 1em;\n",
       "  padding-left: 1em;\n",
       "}\n",
       "\n",
       "\n",
       "/* Toggleable style: style used for estimator/Pipeline/ColumnTransformer box that is\n",
       "clickable and can be expanded/collapsed.\n",
       "- Pipeline and ColumnTransformer use this feature and define the default style\n",
       "- Estimators will overwrite some part of the style using the `sk-estimator` class\n",
       "*/\n",
       "\n",
       "/* Pipeline and ColumnTransformer style (default) */\n",
       "\n",
       "#sk-container-id-4 div.sk-toggleable {\n",
       "  /* Default theme specific background. It is overwritten whether we have a\n",
       "  specific estimator or a Pipeline/ColumnTransformer */\n",
       "  background-color: var(--sklearn-color-background);\n",
       "}\n",
       "\n",
       "/* Toggleable label */\n",
       "#sk-container-id-4 label.sk-toggleable__label {\n",
       "  cursor: pointer;\n",
       "  display: flex;\n",
       "  width: 100%;\n",
       "  margin-bottom: 0;\n",
       "  padding: 0.5em;\n",
       "  box-sizing: border-box;\n",
       "  text-align: center;\n",
       "  align-items: start;\n",
       "  justify-content: space-between;\n",
       "  gap: 0.5em;\n",
       "}\n",
       "\n",
       "#sk-container-id-4 label.sk-toggleable__label .caption {\n",
       "  font-size: 0.6rem;\n",
       "  font-weight: lighter;\n",
       "  color: var(--sklearn-color-text-muted);\n",
       "}\n",
       "\n",
       "#sk-container-id-4 label.sk-toggleable__label-arrow:before {\n",
       "  /* Arrow on the left of the label */\n",
       "  content: \"▸\";\n",
       "  float: left;\n",
       "  margin-right: 0.25em;\n",
       "  color: var(--sklearn-color-icon);\n",
       "}\n",
       "\n",
       "#sk-container-id-4 label.sk-toggleable__label-arrow:hover:before {\n",
       "  color: var(--sklearn-color-text);\n",
       "}\n",
       "\n",
       "/* Toggleable content - dropdown */\n",
       "\n",
       "#sk-container-id-4 div.sk-toggleable__content {\n",
       "  max-height: 0;\n",
       "  max-width: 0;\n",
       "  overflow: hidden;\n",
       "  text-align: left;\n",
       "  /* unfitted */\n",
       "  background-color: var(--sklearn-color-unfitted-level-0);\n",
       "}\n",
       "\n",
       "#sk-container-id-4 div.sk-toggleable__content.fitted {\n",
       "  /* fitted */\n",
       "  background-color: var(--sklearn-color-fitted-level-0);\n",
       "}\n",
       "\n",
       "#sk-container-id-4 div.sk-toggleable__content pre {\n",
       "  margin: 0.2em;\n",
       "  border-radius: 0.25em;\n",
       "  color: var(--sklearn-color-text);\n",
       "  /* unfitted */\n",
       "  background-color: var(--sklearn-color-unfitted-level-0);\n",
       "}\n",
       "\n",
       "#sk-container-id-4 div.sk-toggleable__content.fitted pre {\n",
       "  /* unfitted */\n",
       "  background-color: var(--sklearn-color-fitted-level-0);\n",
       "}\n",
       "\n",
       "#sk-container-id-4 input.sk-toggleable__control:checked~div.sk-toggleable__content {\n",
       "  /* Expand drop-down */\n",
       "  max-height: 200px;\n",
       "  max-width: 100%;\n",
       "  overflow: auto;\n",
       "}\n",
       "\n",
       "#sk-container-id-4 input.sk-toggleable__control:checked~label.sk-toggleable__label-arrow:before {\n",
       "  content: \"▾\";\n",
       "}\n",
       "\n",
       "/* Pipeline/ColumnTransformer-specific style */\n",
       "\n",
       "#sk-container-id-4 div.sk-label input.sk-toggleable__control:checked~label.sk-toggleable__label {\n",
       "  color: var(--sklearn-color-text);\n",
       "  background-color: var(--sklearn-color-unfitted-level-2);\n",
       "}\n",
       "\n",
       "#sk-container-id-4 div.sk-label.fitted input.sk-toggleable__control:checked~label.sk-toggleable__label {\n",
       "  background-color: var(--sklearn-color-fitted-level-2);\n",
       "}\n",
       "\n",
       "/* Estimator-specific style */\n",
       "\n",
       "/* Colorize estimator box */\n",
       "#sk-container-id-4 div.sk-estimator input.sk-toggleable__control:checked~label.sk-toggleable__label {\n",
       "  /* unfitted */\n",
       "  background-color: var(--sklearn-color-unfitted-level-2);\n",
       "}\n",
       "\n",
       "#sk-container-id-4 div.sk-estimator.fitted input.sk-toggleable__control:checked~label.sk-toggleable__label {\n",
       "  /* fitted */\n",
       "  background-color: var(--sklearn-color-fitted-level-2);\n",
       "}\n",
       "\n",
       "#sk-container-id-4 div.sk-label label.sk-toggleable__label,\n",
       "#sk-container-id-4 div.sk-label label {\n",
       "  /* The background is the default theme color */\n",
       "  color: var(--sklearn-color-text-on-default-background);\n",
       "}\n",
       "\n",
       "/* On hover, darken the color of the background */\n",
       "#sk-container-id-4 div.sk-label:hover label.sk-toggleable__label {\n",
       "  color: var(--sklearn-color-text);\n",
       "  background-color: var(--sklearn-color-unfitted-level-2);\n",
       "}\n",
       "\n",
       "/* Label box, darken color on hover, fitted */\n",
       "#sk-container-id-4 div.sk-label.fitted:hover label.sk-toggleable__label.fitted {\n",
       "  color: var(--sklearn-color-text);\n",
       "  background-color: var(--sklearn-color-fitted-level-2);\n",
       "}\n",
       "\n",
       "/* Estimator label */\n",
       "\n",
       "#sk-container-id-4 div.sk-label label {\n",
       "  font-family: monospace;\n",
       "  font-weight: bold;\n",
       "  display: inline-block;\n",
       "  line-height: 1.2em;\n",
       "}\n",
       "\n",
       "#sk-container-id-4 div.sk-label-container {\n",
       "  text-align: center;\n",
       "}\n",
       "\n",
       "/* Estimator-specific */\n",
       "#sk-container-id-4 div.sk-estimator {\n",
       "  font-family: monospace;\n",
       "  border: 1px dotted var(--sklearn-color-border-box);\n",
       "  border-radius: 0.25em;\n",
       "  box-sizing: border-box;\n",
       "  margin-bottom: 0.5em;\n",
       "  /* unfitted */\n",
       "  background-color: var(--sklearn-color-unfitted-level-0);\n",
       "}\n",
       "\n",
       "#sk-container-id-4 div.sk-estimator.fitted {\n",
       "  /* fitted */\n",
       "  background-color: var(--sklearn-color-fitted-level-0);\n",
       "}\n",
       "\n",
       "/* on hover */\n",
       "#sk-container-id-4 div.sk-estimator:hover {\n",
       "  /* unfitted */\n",
       "  background-color: var(--sklearn-color-unfitted-level-2);\n",
       "}\n",
       "\n",
       "#sk-container-id-4 div.sk-estimator.fitted:hover {\n",
       "  /* fitted */\n",
       "  background-color: var(--sklearn-color-fitted-level-2);\n",
       "}\n",
       "\n",
       "/* Specification for estimator info (e.g. \"i\" and \"?\") */\n",
       "\n",
       "/* Common style for \"i\" and \"?\" */\n",
       "\n",
       ".sk-estimator-doc-link,\n",
       "a:link.sk-estimator-doc-link,\n",
       "a:visited.sk-estimator-doc-link {\n",
       "  float: right;\n",
       "  font-size: smaller;\n",
       "  line-height: 1em;\n",
       "  font-family: monospace;\n",
       "  background-color: var(--sklearn-color-background);\n",
       "  border-radius: 1em;\n",
       "  height: 1em;\n",
       "  width: 1em;\n",
       "  text-decoration: none !important;\n",
       "  margin-left: 0.5em;\n",
       "  text-align: center;\n",
       "  /* unfitted */\n",
       "  border: var(--sklearn-color-unfitted-level-1) 1pt solid;\n",
       "  color: var(--sklearn-color-unfitted-level-1);\n",
       "}\n",
       "\n",
       ".sk-estimator-doc-link.fitted,\n",
       "a:link.sk-estimator-doc-link.fitted,\n",
       "a:visited.sk-estimator-doc-link.fitted {\n",
       "  /* fitted */\n",
       "  border: var(--sklearn-color-fitted-level-1) 1pt solid;\n",
       "  color: var(--sklearn-color-fitted-level-1);\n",
       "}\n",
       "\n",
       "/* On hover */\n",
       "div.sk-estimator:hover .sk-estimator-doc-link:hover,\n",
       ".sk-estimator-doc-link:hover,\n",
       "div.sk-label-container:hover .sk-estimator-doc-link:hover,\n",
       ".sk-estimator-doc-link:hover {\n",
       "  /* unfitted */\n",
       "  background-color: var(--sklearn-color-unfitted-level-3);\n",
       "  color: var(--sklearn-color-background);\n",
       "  text-decoration: none;\n",
       "}\n",
       "\n",
       "div.sk-estimator.fitted:hover .sk-estimator-doc-link.fitted:hover,\n",
       ".sk-estimator-doc-link.fitted:hover,\n",
       "div.sk-label-container:hover .sk-estimator-doc-link.fitted:hover,\n",
       ".sk-estimator-doc-link.fitted:hover {\n",
       "  /* fitted */\n",
       "  background-color: var(--sklearn-color-fitted-level-3);\n",
       "  color: var(--sklearn-color-background);\n",
       "  text-decoration: none;\n",
       "}\n",
       "\n",
       "/* Span, style for the box shown on hovering the info icon */\n",
       ".sk-estimator-doc-link span {\n",
       "  display: none;\n",
       "  z-index: 9999;\n",
       "  position: relative;\n",
       "  font-weight: normal;\n",
       "  right: .2ex;\n",
       "  padding: .5ex;\n",
       "  margin: .5ex;\n",
       "  width: min-content;\n",
       "  min-width: 20ex;\n",
       "  max-width: 50ex;\n",
       "  color: var(--sklearn-color-text);\n",
       "  box-shadow: 2pt 2pt 4pt #999;\n",
       "  /* unfitted */\n",
       "  background: var(--sklearn-color-unfitted-level-0);\n",
       "  border: .5pt solid var(--sklearn-color-unfitted-level-3);\n",
       "}\n",
       "\n",
       ".sk-estimator-doc-link.fitted span {\n",
       "  /* fitted */\n",
       "  background: var(--sklearn-color-fitted-level-0);\n",
       "  border: var(--sklearn-color-fitted-level-3);\n",
       "}\n",
       "\n",
       ".sk-estimator-doc-link:hover span {\n",
       "  display: block;\n",
       "}\n",
       "\n",
       "/* \"?\"-specific style due to the `<a>` HTML tag */\n",
       "\n",
       "#sk-container-id-4 a.estimator_doc_link {\n",
       "  float: right;\n",
       "  font-size: 1rem;\n",
       "  line-height: 1em;\n",
       "  font-family: monospace;\n",
       "  background-color: var(--sklearn-color-background);\n",
       "  border-radius: 1rem;\n",
       "  height: 1rem;\n",
       "  width: 1rem;\n",
       "  text-decoration: none;\n",
       "  /* unfitted */\n",
       "  color: var(--sklearn-color-unfitted-level-1);\n",
       "  border: var(--sklearn-color-unfitted-level-1) 1pt solid;\n",
       "}\n",
       "\n",
       "#sk-container-id-4 a.estimator_doc_link.fitted {\n",
       "  /* fitted */\n",
       "  border: var(--sklearn-color-fitted-level-1) 1pt solid;\n",
       "  color: var(--sklearn-color-fitted-level-1);\n",
       "}\n",
       "\n",
       "/* On hover */\n",
       "#sk-container-id-4 a.estimator_doc_link:hover {\n",
       "  /* unfitted */\n",
       "  background-color: var(--sklearn-color-unfitted-level-3);\n",
       "  color: var(--sklearn-color-background);\n",
       "  text-decoration: none;\n",
       "}\n",
       "\n",
       "#sk-container-id-4 a.estimator_doc_link.fitted:hover {\n",
       "  /* fitted */\n",
       "  background-color: var(--sklearn-color-fitted-level-3);\n",
       "}\n",
       "</style><div id=\"sk-container-id-4\" class=\"sk-top-container\"><div class=\"sk-text-repr-fallback\"><pre>LinearRegression()</pre><b>In a Jupyter environment, please rerun this cell to show the HTML representation or trust the notebook. <br />On GitHub, the HTML representation is unable to render, please try loading this page with nbviewer.org.</b></div><div class=\"sk-container\" hidden><div class=\"sk-item\"><div class=\"sk-estimator fitted sk-toggleable\"><input class=\"sk-toggleable__control sk-hidden--visually\" id=\"sk-estimator-id-7\" type=\"checkbox\" checked><label for=\"sk-estimator-id-7\" class=\"sk-toggleable__label fitted sk-toggleable__label-arrow\"><div><div>LinearRegression</div></div><div><a class=\"sk-estimator-doc-link fitted\" rel=\"noreferrer\" target=\"_blank\" href=\"https://scikit-learn.org/1.6/modules/generated/sklearn.linear_model.LinearRegression.html\">?<span>Documentation for LinearRegression</span></a><span class=\"sk-estimator-doc-link fitted\">i<span>Fitted</span></span></div></label><div class=\"sk-toggleable__content fitted\"><pre>LinearRegression()</pre></div> </div></div></div></div>"
      ]
     },
     "execution_count": 52,
     "metadata": {},
     "output_type": "execute_result"
    }
   ],
   "execution_count": 52
  },
  {
   "metadata": {
    "ExecuteTime": {
     "end_time": "2025-03-16T09:20:23.672550Z",
     "start_time": "2025-03-16T09:20:23.668628Z"
    }
   },
   "cell_type": "code",
   "source": "model3.coef_",
   "id": "45fe74182a2d6ca1",
   "outputs": [
    {
     "data": {
      "text/plain": [
       "array([[ 2.57574508, -1.86897407,  4.83990781]])"
      ]
     },
     "execution_count": 53,
     "metadata": {},
     "output_type": "execute_result"
    }
   ],
   "execution_count": 53
  },
  {
   "metadata": {
    "ExecuteTime": {
     "end_time": "2025-03-16T09:20:24.223715Z",
     "start_time": "2025-03-16T09:20:24.218767Z"
    }
   },
   "cell_type": "code",
   "source": "model3.intercept_",
   "id": "dae751e2153c861e",
   "outputs": [
    {
     "data": {
      "text/plain": [
       "array([22.59409013])"
      ]
     },
     "execution_count": 54,
     "metadata": {},
     "output_type": "execute_result"
    }
   ],
   "execution_count": 54
  },
  {
   "metadata": {},
   "cell_type": "markdown",
   "source": "*模型评估*",
   "id": "8cfedc8a0746b92e"
  },
  {
   "metadata": {
    "ExecuteTime": {
     "end_time": "2025-03-16T09:20:25.756529Z",
     "start_time": "2025-03-16T09:20:25.725456Z"
    }
   },
   "cell_type": "code",
   "source": [
    "y_predict_new = model3.predict(X_test_new)\n",
    "np.sqrt(mean_squared_error(y_test_new, y_predict_new))"
   ],
   "id": "7e50cddad585d40c",
   "outputs": [
    {
     "data": {
      "text/plain": [
       "np.float64(4.120550012823165)"
      ]
     },
     "execution_count": 55,
     "metadata": {},
     "output_type": "execute_result"
    }
   ],
   "execution_count": 55
  },
  {
   "metadata": {
    "ExecuteTime": {
     "end_time": "2025-03-16T09:20:27.997880Z",
     "start_time": "2025-03-16T09:20:27.990159Z"
    }
   },
   "cell_type": "code",
   "source": "4.12 / (target.max() - target.min())",
   "id": "6e6cce72a4cf3179",
   "outputs": [
    {
     "data": {
      "text/plain": [
       "np.float64(0.09155555555555556)"
      ]
     },
     "execution_count": 56,
     "metadata": {},
     "output_type": "execute_result"
    }
   ],
   "execution_count": 56
  },
  {
   "metadata": {
    "ExecuteTime": {
     "end_time": "2025-03-16T09:20:29.786556Z",
     "start_time": "2025-03-16T09:20:29.781556Z"
    }
   },
   "cell_type": "code",
   "source": "r2_score(y_test_new, y_predict_new)",
   "id": "8248e5feaeb0b34d",
   "outputs": [
    {
     "data": {
      "text/plain": [
       "0.7663489134600246"
      ]
     },
     "execution_count": 57,
     "metadata": {},
     "output_type": "execute_result"
    }
   ],
   "execution_count": 57
  },
  {
   "metadata": {},
   "cell_type": "markdown",
   "source": [
    "房价误差大约为 9.1%，相较于最开始的模型降低 1%\n",
    "\n",
    "能解释大约 76.6% 的房价变化，相较于最开始的模型提高 6%"
   ],
   "id": "b31f9833e982880f"
  },
  {
   "metadata": {},
   "cell_type": "markdown",
   "source": "***对比多特征多项式优化较少***",
   "id": "4c29dbed9cc6cd14"
  },
  {
   "metadata": {},
   "cell_type": "markdown",
   "source": "#### 尝试直接使用多项式",
   "id": "a6a05798d305e956"
  },
  {
   "metadata": {
    "ExecuteTime": {
     "end_time": "2025-03-16T09:20:31.871256Z",
     "start_time": "2025-03-16T09:20:31.867109Z"
    }
   },
   "cell_type": "code",
   "source": "X_train_new2, X_test_new2, y_train_new2, y_test_new2 = train_test_split(high_corr_data_new, target, test_size=0.2, random_state=15)",
   "id": "f1750154122ae161",
   "outputs": [],
   "execution_count": 58
  },
  {
   "metadata": {
    "ExecuteTime": {
     "end_time": "2025-03-16T09:20:32.650635Z",
     "start_time": "2025-03-16T09:20:32.318928Z"
    }
   },
   "cell_type": "code",
   "source": [
    "from sklearn.linear_model import Ridge\n",
    "pipeline2 = Pipeline([\n",
    "    # 当include_bias=True 时可用在梯度下降中，自动增加一列全为 1 项\n",
    "    ('PolynomialFeatures', PolynomialFeatures(degree=12, include_bias=False)), \n",
    "    ('StandardScaler', StandardScaler()), \n",
    "    ('LinearRegression', Ridge())\n",
    "])\n",
    "pipeline2.fit(X_train_new2, y_train_new2)"
   ],
   "id": "5179384f010d2dfe",
   "outputs": [
    {
     "data": {
      "text/plain": [
       "Pipeline(steps=[('PolynomialFeatures',\n",
       "                 PolynomialFeatures(degree=12, include_bias=False)),\n",
       "                ('StandardScaler', StandardScaler()),\n",
       "                ('LinearRegression', Ridge())])"
      ],
      "text/html": [
       "<style>#sk-container-id-5 {\n",
       "  /* Definition of color scheme common for light and dark mode */\n",
       "  --sklearn-color-text: #000;\n",
       "  --sklearn-color-text-muted: #666;\n",
       "  --sklearn-color-line: gray;\n",
       "  /* Definition of color scheme for unfitted estimators */\n",
       "  --sklearn-color-unfitted-level-0: #fff5e6;\n",
       "  --sklearn-color-unfitted-level-1: #f6e4d2;\n",
       "  --sklearn-color-unfitted-level-2: #ffe0b3;\n",
       "  --sklearn-color-unfitted-level-3: chocolate;\n",
       "  /* Definition of color scheme for fitted estimators */\n",
       "  --sklearn-color-fitted-level-0: #f0f8ff;\n",
       "  --sklearn-color-fitted-level-1: #d4ebff;\n",
       "  --sklearn-color-fitted-level-2: #b3dbfd;\n",
       "  --sklearn-color-fitted-level-3: cornflowerblue;\n",
       "\n",
       "  /* Specific color for light theme */\n",
       "  --sklearn-color-text-on-default-background: var(--sg-text-color, var(--theme-code-foreground, var(--jp-content-font-color1, black)));\n",
       "  --sklearn-color-background: var(--sg-background-color, var(--theme-background, var(--jp-layout-color0, white)));\n",
       "  --sklearn-color-border-box: var(--sg-text-color, var(--theme-code-foreground, var(--jp-content-font-color1, black)));\n",
       "  --sklearn-color-icon: #696969;\n",
       "\n",
       "  @media (prefers-color-scheme: dark) {\n",
       "    /* Redefinition of color scheme for dark theme */\n",
       "    --sklearn-color-text-on-default-background: var(--sg-text-color, var(--theme-code-foreground, var(--jp-content-font-color1, white)));\n",
       "    --sklearn-color-background: var(--sg-background-color, var(--theme-background, var(--jp-layout-color0, #111)));\n",
       "    --sklearn-color-border-box: var(--sg-text-color, var(--theme-code-foreground, var(--jp-content-font-color1, white)));\n",
       "    --sklearn-color-icon: #878787;\n",
       "  }\n",
       "}\n",
       "\n",
       "#sk-container-id-5 {\n",
       "  color: var(--sklearn-color-text);\n",
       "}\n",
       "\n",
       "#sk-container-id-5 pre {\n",
       "  padding: 0;\n",
       "}\n",
       "\n",
       "#sk-container-id-5 input.sk-hidden--visually {\n",
       "  border: 0;\n",
       "  clip: rect(1px 1px 1px 1px);\n",
       "  clip: rect(1px, 1px, 1px, 1px);\n",
       "  height: 1px;\n",
       "  margin: -1px;\n",
       "  overflow: hidden;\n",
       "  padding: 0;\n",
       "  position: absolute;\n",
       "  width: 1px;\n",
       "}\n",
       "\n",
       "#sk-container-id-5 div.sk-dashed-wrapped {\n",
       "  border: 1px dashed var(--sklearn-color-line);\n",
       "  margin: 0 0.4em 0.5em 0.4em;\n",
       "  box-sizing: border-box;\n",
       "  padding-bottom: 0.4em;\n",
       "  background-color: var(--sklearn-color-background);\n",
       "}\n",
       "\n",
       "#sk-container-id-5 div.sk-container {\n",
       "  /* jupyter's `normalize.less` sets `[hidden] { display: none; }`\n",
       "     but bootstrap.min.css set `[hidden] { display: none !important; }`\n",
       "     so we also need the `!important` here to be able to override the\n",
       "     default hidden behavior on the sphinx rendered scikit-learn.org.\n",
       "     See: https://github.com/scikit-learn/scikit-learn/issues/21755 */\n",
       "  display: inline-block !important;\n",
       "  position: relative;\n",
       "}\n",
       "\n",
       "#sk-container-id-5 div.sk-text-repr-fallback {\n",
       "  display: none;\n",
       "}\n",
       "\n",
       "div.sk-parallel-item,\n",
       "div.sk-serial,\n",
       "div.sk-item {\n",
       "  /* draw centered vertical line to link estimators */\n",
       "  background-image: linear-gradient(var(--sklearn-color-text-on-default-background), var(--sklearn-color-text-on-default-background));\n",
       "  background-size: 2px 100%;\n",
       "  background-repeat: no-repeat;\n",
       "  background-position: center center;\n",
       "}\n",
       "\n",
       "/* Parallel-specific style estimator block */\n",
       "\n",
       "#sk-container-id-5 div.sk-parallel-item::after {\n",
       "  content: \"\";\n",
       "  width: 100%;\n",
       "  border-bottom: 2px solid var(--sklearn-color-text-on-default-background);\n",
       "  flex-grow: 1;\n",
       "}\n",
       "\n",
       "#sk-container-id-5 div.sk-parallel {\n",
       "  display: flex;\n",
       "  align-items: stretch;\n",
       "  justify-content: center;\n",
       "  background-color: var(--sklearn-color-background);\n",
       "  position: relative;\n",
       "}\n",
       "\n",
       "#sk-container-id-5 div.sk-parallel-item {\n",
       "  display: flex;\n",
       "  flex-direction: column;\n",
       "}\n",
       "\n",
       "#sk-container-id-5 div.sk-parallel-item:first-child::after {\n",
       "  align-self: flex-end;\n",
       "  width: 50%;\n",
       "}\n",
       "\n",
       "#sk-container-id-5 div.sk-parallel-item:last-child::after {\n",
       "  align-self: flex-start;\n",
       "  width: 50%;\n",
       "}\n",
       "\n",
       "#sk-container-id-5 div.sk-parallel-item:only-child::after {\n",
       "  width: 0;\n",
       "}\n",
       "\n",
       "/* Serial-specific style estimator block */\n",
       "\n",
       "#sk-container-id-5 div.sk-serial {\n",
       "  display: flex;\n",
       "  flex-direction: column;\n",
       "  align-items: center;\n",
       "  background-color: var(--sklearn-color-background);\n",
       "  padding-right: 1em;\n",
       "  padding-left: 1em;\n",
       "}\n",
       "\n",
       "\n",
       "/* Toggleable style: style used for estimator/Pipeline/ColumnTransformer box that is\n",
       "clickable and can be expanded/collapsed.\n",
       "- Pipeline and ColumnTransformer use this feature and define the default style\n",
       "- Estimators will overwrite some part of the style using the `sk-estimator` class\n",
       "*/\n",
       "\n",
       "/* Pipeline and ColumnTransformer style (default) */\n",
       "\n",
       "#sk-container-id-5 div.sk-toggleable {\n",
       "  /* Default theme specific background. It is overwritten whether we have a\n",
       "  specific estimator or a Pipeline/ColumnTransformer */\n",
       "  background-color: var(--sklearn-color-background);\n",
       "}\n",
       "\n",
       "/* Toggleable label */\n",
       "#sk-container-id-5 label.sk-toggleable__label {\n",
       "  cursor: pointer;\n",
       "  display: flex;\n",
       "  width: 100%;\n",
       "  margin-bottom: 0;\n",
       "  padding: 0.5em;\n",
       "  box-sizing: border-box;\n",
       "  text-align: center;\n",
       "  align-items: start;\n",
       "  justify-content: space-between;\n",
       "  gap: 0.5em;\n",
       "}\n",
       "\n",
       "#sk-container-id-5 label.sk-toggleable__label .caption {\n",
       "  font-size: 0.6rem;\n",
       "  font-weight: lighter;\n",
       "  color: var(--sklearn-color-text-muted);\n",
       "}\n",
       "\n",
       "#sk-container-id-5 label.sk-toggleable__label-arrow:before {\n",
       "  /* Arrow on the left of the label */\n",
       "  content: \"▸\";\n",
       "  float: left;\n",
       "  margin-right: 0.25em;\n",
       "  color: var(--sklearn-color-icon);\n",
       "}\n",
       "\n",
       "#sk-container-id-5 label.sk-toggleable__label-arrow:hover:before {\n",
       "  color: var(--sklearn-color-text);\n",
       "}\n",
       "\n",
       "/* Toggleable content - dropdown */\n",
       "\n",
       "#sk-container-id-5 div.sk-toggleable__content {\n",
       "  max-height: 0;\n",
       "  max-width: 0;\n",
       "  overflow: hidden;\n",
       "  text-align: left;\n",
       "  /* unfitted */\n",
       "  background-color: var(--sklearn-color-unfitted-level-0);\n",
       "}\n",
       "\n",
       "#sk-container-id-5 div.sk-toggleable__content.fitted {\n",
       "  /* fitted */\n",
       "  background-color: var(--sklearn-color-fitted-level-0);\n",
       "}\n",
       "\n",
       "#sk-container-id-5 div.sk-toggleable__content pre {\n",
       "  margin: 0.2em;\n",
       "  border-radius: 0.25em;\n",
       "  color: var(--sklearn-color-text);\n",
       "  /* unfitted */\n",
       "  background-color: var(--sklearn-color-unfitted-level-0);\n",
       "}\n",
       "\n",
       "#sk-container-id-5 div.sk-toggleable__content.fitted pre {\n",
       "  /* unfitted */\n",
       "  background-color: var(--sklearn-color-fitted-level-0);\n",
       "}\n",
       "\n",
       "#sk-container-id-5 input.sk-toggleable__control:checked~div.sk-toggleable__content {\n",
       "  /* Expand drop-down */\n",
       "  max-height: 200px;\n",
       "  max-width: 100%;\n",
       "  overflow: auto;\n",
       "}\n",
       "\n",
       "#sk-container-id-5 input.sk-toggleable__control:checked~label.sk-toggleable__label-arrow:before {\n",
       "  content: \"▾\";\n",
       "}\n",
       "\n",
       "/* Pipeline/ColumnTransformer-specific style */\n",
       "\n",
       "#sk-container-id-5 div.sk-label input.sk-toggleable__control:checked~label.sk-toggleable__label {\n",
       "  color: var(--sklearn-color-text);\n",
       "  background-color: var(--sklearn-color-unfitted-level-2);\n",
       "}\n",
       "\n",
       "#sk-container-id-5 div.sk-label.fitted input.sk-toggleable__control:checked~label.sk-toggleable__label {\n",
       "  background-color: var(--sklearn-color-fitted-level-2);\n",
       "}\n",
       "\n",
       "/* Estimator-specific style */\n",
       "\n",
       "/* Colorize estimator box */\n",
       "#sk-container-id-5 div.sk-estimator input.sk-toggleable__control:checked~label.sk-toggleable__label {\n",
       "  /* unfitted */\n",
       "  background-color: var(--sklearn-color-unfitted-level-2);\n",
       "}\n",
       "\n",
       "#sk-container-id-5 div.sk-estimator.fitted input.sk-toggleable__control:checked~label.sk-toggleable__label {\n",
       "  /* fitted */\n",
       "  background-color: var(--sklearn-color-fitted-level-2);\n",
       "}\n",
       "\n",
       "#sk-container-id-5 div.sk-label label.sk-toggleable__label,\n",
       "#sk-container-id-5 div.sk-label label {\n",
       "  /* The background is the default theme color */\n",
       "  color: var(--sklearn-color-text-on-default-background);\n",
       "}\n",
       "\n",
       "/* On hover, darken the color of the background */\n",
       "#sk-container-id-5 div.sk-label:hover label.sk-toggleable__label {\n",
       "  color: var(--sklearn-color-text);\n",
       "  background-color: var(--sklearn-color-unfitted-level-2);\n",
       "}\n",
       "\n",
       "/* Label box, darken color on hover, fitted */\n",
       "#sk-container-id-5 div.sk-label.fitted:hover label.sk-toggleable__label.fitted {\n",
       "  color: var(--sklearn-color-text);\n",
       "  background-color: var(--sklearn-color-fitted-level-2);\n",
       "}\n",
       "\n",
       "/* Estimator label */\n",
       "\n",
       "#sk-container-id-5 div.sk-label label {\n",
       "  font-family: monospace;\n",
       "  font-weight: bold;\n",
       "  display: inline-block;\n",
       "  line-height: 1.2em;\n",
       "}\n",
       "\n",
       "#sk-container-id-5 div.sk-label-container {\n",
       "  text-align: center;\n",
       "}\n",
       "\n",
       "/* Estimator-specific */\n",
       "#sk-container-id-5 div.sk-estimator {\n",
       "  font-family: monospace;\n",
       "  border: 1px dotted var(--sklearn-color-border-box);\n",
       "  border-radius: 0.25em;\n",
       "  box-sizing: border-box;\n",
       "  margin-bottom: 0.5em;\n",
       "  /* unfitted */\n",
       "  background-color: var(--sklearn-color-unfitted-level-0);\n",
       "}\n",
       "\n",
       "#sk-container-id-5 div.sk-estimator.fitted {\n",
       "  /* fitted */\n",
       "  background-color: var(--sklearn-color-fitted-level-0);\n",
       "}\n",
       "\n",
       "/* on hover */\n",
       "#sk-container-id-5 div.sk-estimator:hover {\n",
       "  /* unfitted */\n",
       "  background-color: var(--sklearn-color-unfitted-level-2);\n",
       "}\n",
       "\n",
       "#sk-container-id-5 div.sk-estimator.fitted:hover {\n",
       "  /* fitted */\n",
       "  background-color: var(--sklearn-color-fitted-level-2);\n",
       "}\n",
       "\n",
       "/* Specification for estimator info (e.g. \"i\" and \"?\") */\n",
       "\n",
       "/* Common style for \"i\" and \"?\" */\n",
       "\n",
       ".sk-estimator-doc-link,\n",
       "a:link.sk-estimator-doc-link,\n",
       "a:visited.sk-estimator-doc-link {\n",
       "  float: right;\n",
       "  font-size: smaller;\n",
       "  line-height: 1em;\n",
       "  font-family: monospace;\n",
       "  background-color: var(--sklearn-color-background);\n",
       "  border-radius: 1em;\n",
       "  height: 1em;\n",
       "  width: 1em;\n",
       "  text-decoration: none !important;\n",
       "  margin-left: 0.5em;\n",
       "  text-align: center;\n",
       "  /* unfitted */\n",
       "  border: var(--sklearn-color-unfitted-level-1) 1pt solid;\n",
       "  color: var(--sklearn-color-unfitted-level-1);\n",
       "}\n",
       "\n",
       ".sk-estimator-doc-link.fitted,\n",
       "a:link.sk-estimator-doc-link.fitted,\n",
       "a:visited.sk-estimator-doc-link.fitted {\n",
       "  /* fitted */\n",
       "  border: var(--sklearn-color-fitted-level-1) 1pt solid;\n",
       "  color: var(--sklearn-color-fitted-level-1);\n",
       "}\n",
       "\n",
       "/* On hover */\n",
       "div.sk-estimator:hover .sk-estimator-doc-link:hover,\n",
       ".sk-estimator-doc-link:hover,\n",
       "div.sk-label-container:hover .sk-estimator-doc-link:hover,\n",
       ".sk-estimator-doc-link:hover {\n",
       "  /* unfitted */\n",
       "  background-color: var(--sklearn-color-unfitted-level-3);\n",
       "  color: var(--sklearn-color-background);\n",
       "  text-decoration: none;\n",
       "}\n",
       "\n",
       "div.sk-estimator.fitted:hover .sk-estimator-doc-link.fitted:hover,\n",
       ".sk-estimator-doc-link.fitted:hover,\n",
       "div.sk-label-container:hover .sk-estimator-doc-link.fitted:hover,\n",
       ".sk-estimator-doc-link.fitted:hover {\n",
       "  /* fitted */\n",
       "  background-color: var(--sklearn-color-fitted-level-3);\n",
       "  color: var(--sklearn-color-background);\n",
       "  text-decoration: none;\n",
       "}\n",
       "\n",
       "/* Span, style for the box shown on hovering the info icon */\n",
       ".sk-estimator-doc-link span {\n",
       "  display: none;\n",
       "  z-index: 9999;\n",
       "  position: relative;\n",
       "  font-weight: normal;\n",
       "  right: .2ex;\n",
       "  padding: .5ex;\n",
       "  margin: .5ex;\n",
       "  width: min-content;\n",
       "  min-width: 20ex;\n",
       "  max-width: 50ex;\n",
       "  color: var(--sklearn-color-text);\n",
       "  box-shadow: 2pt 2pt 4pt #999;\n",
       "  /* unfitted */\n",
       "  background: var(--sklearn-color-unfitted-level-0);\n",
       "  border: .5pt solid var(--sklearn-color-unfitted-level-3);\n",
       "}\n",
       "\n",
       ".sk-estimator-doc-link.fitted span {\n",
       "  /* fitted */\n",
       "  background: var(--sklearn-color-fitted-level-0);\n",
       "  border: var(--sklearn-color-fitted-level-3);\n",
       "}\n",
       "\n",
       ".sk-estimator-doc-link:hover span {\n",
       "  display: block;\n",
       "}\n",
       "\n",
       "/* \"?\"-specific style due to the `<a>` HTML tag */\n",
       "\n",
       "#sk-container-id-5 a.estimator_doc_link {\n",
       "  float: right;\n",
       "  font-size: 1rem;\n",
       "  line-height: 1em;\n",
       "  font-family: monospace;\n",
       "  background-color: var(--sklearn-color-background);\n",
       "  border-radius: 1rem;\n",
       "  height: 1rem;\n",
       "  width: 1rem;\n",
       "  text-decoration: none;\n",
       "  /* unfitted */\n",
       "  color: var(--sklearn-color-unfitted-level-1);\n",
       "  border: var(--sklearn-color-unfitted-level-1) 1pt solid;\n",
       "}\n",
       "\n",
       "#sk-container-id-5 a.estimator_doc_link.fitted {\n",
       "  /* fitted */\n",
       "  border: var(--sklearn-color-fitted-level-1) 1pt solid;\n",
       "  color: var(--sklearn-color-fitted-level-1);\n",
       "}\n",
       "\n",
       "/* On hover */\n",
       "#sk-container-id-5 a.estimator_doc_link:hover {\n",
       "  /* unfitted */\n",
       "  background-color: var(--sklearn-color-unfitted-level-3);\n",
       "  color: var(--sklearn-color-background);\n",
       "  text-decoration: none;\n",
       "}\n",
       "\n",
       "#sk-container-id-5 a.estimator_doc_link.fitted:hover {\n",
       "  /* fitted */\n",
       "  background-color: var(--sklearn-color-fitted-level-3);\n",
       "}\n",
       "</style><div id=\"sk-container-id-5\" class=\"sk-top-container\"><div class=\"sk-text-repr-fallback\"><pre>Pipeline(steps=[(&#x27;PolynomialFeatures&#x27;,\n",
       "                 PolynomialFeatures(degree=12, include_bias=False)),\n",
       "                (&#x27;StandardScaler&#x27;, StandardScaler()),\n",
       "                (&#x27;LinearRegression&#x27;, Ridge())])</pre><b>In a Jupyter environment, please rerun this cell to show the HTML representation or trust the notebook. <br />On GitHub, the HTML representation is unable to render, please try loading this page with nbviewer.org.</b></div><div class=\"sk-container\" hidden><div class=\"sk-item sk-dashed-wrapped\"><div class=\"sk-label-container\"><div class=\"sk-label fitted sk-toggleable\"><input class=\"sk-toggleable__control sk-hidden--visually\" id=\"sk-estimator-id-8\" type=\"checkbox\" ><label for=\"sk-estimator-id-8\" class=\"sk-toggleable__label fitted sk-toggleable__label-arrow\"><div><div>Pipeline</div></div><div><a class=\"sk-estimator-doc-link fitted\" rel=\"noreferrer\" target=\"_blank\" href=\"https://scikit-learn.org/1.6/modules/generated/sklearn.pipeline.Pipeline.html\">?<span>Documentation for Pipeline</span></a><span class=\"sk-estimator-doc-link fitted\">i<span>Fitted</span></span></div></label><div class=\"sk-toggleable__content fitted\"><pre>Pipeline(steps=[(&#x27;PolynomialFeatures&#x27;,\n",
       "                 PolynomialFeatures(degree=12, include_bias=False)),\n",
       "                (&#x27;StandardScaler&#x27;, StandardScaler()),\n",
       "                (&#x27;LinearRegression&#x27;, Ridge())])</pre></div> </div></div><div class=\"sk-serial\"><div class=\"sk-item\"><div class=\"sk-estimator fitted sk-toggleable\"><input class=\"sk-toggleable__control sk-hidden--visually\" id=\"sk-estimator-id-9\" type=\"checkbox\" ><label for=\"sk-estimator-id-9\" class=\"sk-toggleable__label fitted sk-toggleable__label-arrow\"><div><div>PolynomialFeatures</div></div><div><a class=\"sk-estimator-doc-link fitted\" rel=\"noreferrer\" target=\"_blank\" href=\"https://scikit-learn.org/1.6/modules/generated/sklearn.preprocessing.PolynomialFeatures.html\">?<span>Documentation for PolynomialFeatures</span></a></div></label><div class=\"sk-toggleable__content fitted\"><pre>PolynomialFeatures(degree=12, include_bias=False)</pre></div> </div></div><div class=\"sk-item\"><div class=\"sk-estimator fitted sk-toggleable\"><input class=\"sk-toggleable__control sk-hidden--visually\" id=\"sk-estimator-id-10\" type=\"checkbox\" ><label for=\"sk-estimator-id-10\" class=\"sk-toggleable__label fitted sk-toggleable__label-arrow\"><div><div>StandardScaler</div></div><div><a class=\"sk-estimator-doc-link fitted\" rel=\"noreferrer\" target=\"_blank\" href=\"https://scikit-learn.org/1.6/modules/generated/sklearn.preprocessing.StandardScaler.html\">?<span>Documentation for StandardScaler</span></a></div></label><div class=\"sk-toggleable__content fitted\"><pre>StandardScaler()</pre></div> </div></div><div class=\"sk-item\"><div class=\"sk-estimator fitted sk-toggleable\"><input class=\"sk-toggleable__control sk-hidden--visually\" id=\"sk-estimator-id-11\" type=\"checkbox\" ><label for=\"sk-estimator-id-11\" class=\"sk-toggleable__label fitted sk-toggleable__label-arrow\"><div><div>Ridge</div></div><div><a class=\"sk-estimator-doc-link fitted\" rel=\"noreferrer\" target=\"_blank\" href=\"https://scikit-learn.org/1.6/modules/generated/sklearn.linear_model.Ridge.html\">?<span>Documentation for Ridge</span></a></div></label><div class=\"sk-toggleable__content fitted\"><pre>Ridge()</pre></div> </div></div></div></div></div></div>"
      ]
     },
     "execution_count": 59,
     "metadata": {},
     "output_type": "execute_result"
    }
   ],
   "execution_count": 59
  },
  {
   "metadata": {
    "ExecuteTime": {
     "end_time": "2025-03-16T09:20:33.363057Z",
     "start_time": "2025-03-16T09:20:33.356491Z"
    }
   },
   "cell_type": "code",
   "source": [
    "y_predict_new2 = pipeline2.predict(X_test_new2)\n",
    "np.sqrt(mean_squared_error(y_test_new2, y_predict_new2))"
   ],
   "id": "163c4c5d31dbd697",
   "outputs": [
    {
     "data": {
      "text/plain": [
       "np.float64(3.3002457442939477)"
      ]
     },
     "execution_count": 60,
     "metadata": {},
     "output_type": "execute_result"
    }
   ],
   "execution_count": 60
  },
  {
   "metadata": {
    "ExecuteTime": {
     "end_time": "2025-03-16T09:20:34.525341Z",
     "start_time": "2025-03-16T09:20:34.520790Z"
    }
   },
   "cell_type": "code",
   "source": "3.30 / (target.max() - target.min())",
   "id": "bea4a539a0de5409",
   "outputs": [
    {
     "data": {
      "text/plain": [
       "np.float64(0.07333333333333333)"
      ]
     },
     "execution_count": 61,
     "metadata": {},
     "output_type": "execute_result"
    }
   ],
   "execution_count": 61
  },
  {
   "metadata": {
    "ExecuteTime": {
     "end_time": "2025-03-16T09:20:36.772369Z",
     "start_time": "2025-03-16T09:20:36.767751Z"
    }
   },
   "cell_type": "code",
   "source": "r2_score(y_test_new2, y_predict_new2)",
   "id": "93d5614e2fd41af4",
   "outputs": [
    {
     "data": {
      "text/plain": [
       "0.8501178256127857"
      ]
     },
     "execution_count": 62,
     "metadata": {},
     "output_type": "execute_result"
    }
   ],
   "execution_count": 62
  },
  {
   "metadata": {},
   "cell_type": "markdown",
   "source": [
    "房价误差大约为 7.3%，相较于最开始的模型降低 3.7%\n",
    "\n",
    "能解释大约 85% 的房价变化，相较于最开始的模型提高 14.5%"
   ],
   "id": "8b7a09f40834f62a"
  },
  {
   "metadata": {},
   "cell_type": "markdown",
   "source": "#### degree=12 有过拟合风险，需进行交叉验证",
   "id": "e32e385a01caf261"
  },
  {
   "metadata": {
    "ExecuteTime": {
     "end_time": "2025-03-16T09:20:38.349279Z",
     "start_time": "2025-03-16T09:20:38.345641Z"
    }
   },
   "cell_type": "code",
   "source": [
    "def polynomial_regression(train_data, target_data, val_data):\n",
    "    pipeline_val = Pipeline([\n",
    "        ('PolynomialFeatures', PolynomialFeatures(degree=12, include_bias=False)), \n",
    "        ('StandardScaler', StandardScaler()), \n",
    "        ('LinearRegression', Ridge())\n",
    "    ])\n",
    "    pipeline_val.fit(train_data, target_data)\n",
    "    return pipeline_val.predict(val_data)"
   ],
   "id": "dff8a32fd1aec785",
   "outputs": [],
   "execution_count": 63
  },
  {
   "metadata": {
    "ExecuteTime": {
     "end_time": "2025-03-16T09:20:39.640109Z",
     "start_time": "2025-03-16T09:20:38.918909Z"
    }
   },
   "cell_type": "code",
   "source": [
    "from sklearn.model_selection import KFold\n",
    "kf = KFold(n_splits=10, shuffle=True, random_state=15)\n",
    "\n",
    "mse_result = []\n",
    "r2_result = []\n",
    "for fold, (train_idx, val_idx) in enumerate(kf.split(X_train_new2, y_train_new2)):\n",
    "    X_fold_train, y_fold_train = X_train_new2[train_idx], y_train_new2[train_idx]\n",
    "    X_val, y_val = X_train_new2[val_idx], y_train_new2[val_idx]\n",
    "    y_val_predict = polynomial_regression(X_fold_train, y_fold_train, X_val)\n",
    "    mse_result.append(np.sqrt(mean_squared_error(y_val, y_val_predict)))\n",
    "    r2_result.append(r2_score(y_val, y_val_predict))"
   ],
   "id": "d676ad949f2fc093",
   "outputs": [],
   "execution_count": 64
  },
  {
   "metadata": {
    "ExecuteTime": {
     "end_time": "2025-03-16T09:20:39.644160Z",
     "start_time": "2025-03-16T09:20:39.641063Z"
    }
   },
   "cell_type": "code",
   "source": "sum(mse_result) / 10",
   "id": "c86fb2ef415d8139",
   "outputs": [
    {
     "data": {
      "text/plain": [
       "np.float64(5.635728794857327)"
      ]
     },
     "execution_count": 65,
     "metadata": {},
     "output_type": "execute_result"
    }
   ],
   "execution_count": 65
  },
  {
   "metadata": {
    "ExecuteTime": {
     "end_time": "2025-03-16T09:20:41.299743Z",
     "start_time": "2025-03-16T09:20:41.295458Z"
    }
   },
   "cell_type": "code",
   "source": "sum(r2_result) / 10",
   "id": "12175d4a7405f10a",
   "outputs": [
    {
     "data": {
      "text/plain": [
       "0.46012499964060816"
      ]
     },
     "execution_count": 66,
     "metadata": {},
     "output_type": "execute_result"
    }
   ],
   "execution_count": 66
  },
  {
   "metadata": {},
   "cell_type": "markdown",
   "source": [
    "*RMSE 增大且 R2 降低 :* ***过拟合***\n",
    "\n",
    "修改参数后，当 degree = 3 时效果最好，RMSE = 4.49，R2 = 0.75"
   ],
   "id": "b0b04c5519889064"
  },
  {
   "metadata": {},
   "cell_type": "markdown",
   "source": "## 9. 项目总结",
   "id": "16ef12493163e67e"
  },
  {
   "metadata": {},
   "cell_type": "markdown",
   "source": [
    "### 背景：\n",
    "正在学习 **机器学习** ，最开始接触的是线性回归和多项式回归，因此选择了经典的 **波士顿房价预测** 作为项目练习"
   ],
   "id": "36e56804943633de"
  },
  {
   "metadata": {},
   "cell_type": "markdown",
   "source": [
    "### 描述：\n",
    "该项目使用 **线性回归模型 (含梯度下降)** 和 **多项式回归模型** ，采用 **RMSE**、**R2** 和 **交叉验证** 多种模型评估方式进行验证"
   ],
   "id": "1dd816369696e6e9"
  },
  {
   "metadata": {},
   "cell_type": "markdown",
   "source": [
    "### 结论：\n",
    "通过预测波士顿房价，可以得出 **RM**, **TAX**, **INDUS**, **PTRATIO**, **LSTAT** 这五种特征值对房价具有一定的影响\n",
    "\n",
    "最终采用的多项式回归模型拟合效果最好，**RMSE = 7%**，**R2 = 85.5%**"
   ],
   "id": "fb86e7d542d69cf"
  },
  {
   "metadata": {},
   "cell_type": "markdown",
   "source": [
    "### 缺陷：\n",
    "- 模型构建较为生疏，代码较为粗糙\n",
    "- 思考过程可能未涉及全面\n",
    "- 可视化部分较少，可能影响观察和判断"
   ],
   "id": "5d0d0cea4de46753"
  }
 ],
 "metadata": {
  "kernelspec": {
   "display_name": "Python 3",
   "language": "python",
   "name": "python3"
  },
  "language_info": {
   "codemirror_mode": {
    "name": "ipython",
    "version": 2
   },
   "file_extension": ".py",
   "mimetype": "text/x-python",
   "name": "python",
   "nbconvert_exporter": "python",
   "pygments_lexer": "ipython2",
   "version": "2.7.6"
  }
 },
 "nbformat": 4,
 "nbformat_minor": 5
}
